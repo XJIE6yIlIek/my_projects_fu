{
 "cells": [
  {
   "cell_type": "code",
   "execution_count": null,
   "metadata": {
    "id": "OTeFhk6cTFpr"
   },
   "outputs": [],
   "source": [
    "import random"
   ]
  },
  {
   "cell_type": "code",
   "execution_count": null,
   "metadata": {
    "colab": {
     "base_uri": "https://localhost:8080/"
    },
    "id": "cStqAFuoTsEW",
    "outputId": "36678d69-7a01-458b-de46-18ca6a31b220"
   },
   "outputs": [
    {
     "name": "stdout",
     "output_type": "stream",
     "text": [
      "[1, 2, 3, 4, 5, 6, 7, 8, 9, 10, 11, 12, 13, 14, 15, 16, 17, 18, 19, 20, 21, 22]\n"
     ]
    }
   ],
   "source": [
    "print(list(range(1, 23)))"
   ]
  },
  {
   "cell_type": "code",
   "execution_count": null,
   "metadata": {
    "colab": {
     "base_uri": "https://localhost:8080/"
    },
    "id": "2fFsrxoqTzuf",
    "outputId": "e3bcb4cf-888c-4ee0-d305-ee36020c4b59"
   },
   "outputs": [
    {
     "name": "stdout",
     "output_type": "stream",
     "text": [
      "22\n"
     ]
    }
   ],
   "source": [
    "print(random.choice([4, 8, 12, 13, 16, 19, 21, 22]))"
   ]
  },
  {
   "cell_type": "markdown",
   "metadata": {
    "id": "EalBsCFjOM04"
   },
   "source": [
    "10) Написать 4 функции порождения списка целых значений: отсортированного (по возрастанию и убыванию), случайного и почти отсортированного по возрастанию. Каждая функция принимает длину списка в качестве аргумента."
   ]
  },
  {
   "cell_type": "code",
   "execution_count": null,
   "metadata": {
    "id": "GOSKj10BwaZf"
   },
   "outputs": [],
   "source": []
  },
  {
   "cell_type": "markdown",
   "metadata": {
    "id": "8C2ivhobOM06"
   },
   "source": [
    "11) Реализовать функцию тестирования алгоритма сортировки. Процедура принимает на вход алгоритм сортировки и алгоритм порождения списка f_gen(list_len), генерирующий список заданной длины, количество повтороений теста и список длин использующихся для тестирования.\n",
    "Для каждой длины списка функция тестирования возвращает минимальное, среднее и наибольшее количество сравнений и перестановок."
   ]
  },
  {
   "cell_type": "code",
   "execution_count": null,
   "metadata": {
    "id": "ICVpZ8fKwcLq"
   },
   "outputs": [],
   "source": []
  },
  {
   "cell_type": "markdown",
   "metadata": {
    "id": "_K_WqxKVOM07"
   },
   "source": [
    "12) Реализовать модификацию сортировки пузырьком: \"камешек-пузырек\" - с чередующимися проходами, приводящими к \"всплытию\" самого большого значения списка и \"погружению\" самого маленького значения из неотсортированной части списка."
   ]
  },
  {
   "cell_type": "code",
   "execution_count": null,
   "metadata": {
    "id": "t4DmHgi2wdOM"
   },
   "outputs": [],
   "source": []
  },
  {
   "cell_type": "markdown",
   "metadata": {
    "collapsed": true,
    "id": "3Ca9IukJOM08"
   },
   "source": [
    "13) Добавить в сортировку счетчик количества операций перестановки и счетчик количества сравнений. Возвращать счетчики вместе с отсортированным списком."
   ]
  },
  {
   "cell_type": "code",
   "execution_count": null,
   "metadata": {
    "id": "Fpez5hb0weuz"
   },
   "outputs": [],
   "source": []
  },
  {
   "cell_type": "markdown",
   "metadata": {
    "id": "YMyCV2r4OM09"
   },
   "source": [
    "14) Протестировать алгоритм \"пузырек\" и \"камешек-пузырек\" на разных типах списков."
   ]
  },
  {
   "cell_type": "code",
   "execution_count": null,
   "metadata": {
    "id": "ggVLfjutwf8U"
   },
   "outputs": [],
   "source": []
  },
  {
   "cell_type": "markdown",
   "metadata": {
    "id": "Y-3NTRqBOM09"
   },
   "source": [
    "15) Реализовать модификацию сортировки выбором на основе выбора из подсписков (описанного в лекции). Протестировать алгоритм."
   ]
  },
  {
   "cell_type": "code",
   "execution_count": null,
   "metadata": {
    "id": "jRQ_2d4mwhxV"
   },
   "outputs": [],
   "source": []
  },
  {
   "cell_type": "markdown",
   "metadata": {
    "id": "yexBeXJkOM09"
   },
   "source": [
    "16) Реализовать быструю сортировку с возможностью подсчета операций. Сравнить производительность алгоритма на случайных и упорядоченных (и почти упорядоченных) данных."
   ]
  },
  {
   "cell_type": "code",
   "execution_count": null,
   "metadata": {
    "id": "u-5y4LcLOM0-"
   },
   "outputs": [],
   "source": []
  },
  {
   "cell_type": "markdown",
   "metadata": {
    "id": "h9U_OLfKOM0-"
   },
   "source": [
    "17) Улучшить работу быстрой сортировки на упорядоченных и почти упорядоченных за счет изменения алгоритма выбора элемента для разделения массива."
   ]
  },
  {
   "cell_type": "code",
   "execution_count": null,
   "metadata": {
    "id": "k95lDplIV9aq"
   },
   "outputs": [],
   "source": []
  },
  {
   "cell_type": "markdown",
   "metadata": {
    "id": "pcTgMfUFOM0-"
   },
   "source": [
    "18) Реализовать эффективный алгоритм получения из большого количества отсортированных списков одного отсортированного списка."
   ]
  },
  {
   "cell_type": "code",
   "execution_count": null,
   "metadata": {
    "id": "Hzh84nnFWEop"
   },
   "outputs": [],
   "source": []
  },
  {
   "cell_type": "markdown",
   "metadata": {
    "id": "TmGqpB7ywkf9"
   },
   "source": [
    "19) Модифицировать последовательность длин шагов в сортировке Шелла.\n",
    "\n",
    "На $2[n/2^{k+1}]+1$\n",
    "\n",
    "т.е. при первой сортировке будут использоваться шаги: 2*[n/4]+1, 2*[n/8]+1, ... , 3, 1 ."
   ]
  },
  {
   "cell_type": "code",
   "execution_count": null,
   "metadata": {
    "id": "hDkE-uHLwlDk"
   },
   "outputs": [],
   "source": [
    "# def sort_shell(lst):\n",
    "#     len_lst = len(lst)\n",
    "#     step = 2*(len_lst / 4) + 1\n",
    "#     while interval > 0:\n",
    "#         for i in range(0, len_lst, step):\n",
    "            \n",
    "#             temp = array[i]\n",
    "#             j = i\n",
    "#             while j >= interval and array[j - interval] > temp:\n",
    "#                 array[j] = array[j - interval]\n",
    "#                 j -= interval\n",
    "#             array[j] = temp\n",
    "#         interval = 2**k -1\n",
    "#     return array"
   ]
  },
  {
   "cell_type": "markdown",
   "metadata": {
    "id": "iqNy43DxwlsP"
   },
   "source": [
    "20) Создать класс BinaryTreeLL реализующий API для хранения двоичных деревьев в виде списка списков.\n",
    "\n",
    "* BinaryTreeLL(tree) - создание нового экземпляра бинарного дерева. tree - или значение root_val или список содержащий бинарное дерево или BinaryTreeLL.\n",
    "* get_left_child() - возвращает бинарное дерево связанное с левым дочерним узлом рассматриваемого узла.\n",
    "* get_right_child() - возвращает бинарное дерево связанное с правым дочерним узлом рассматриваемого узла. \n",
    "* get_val() - возвращает объект, хранящийся в данном узле.\n",
    "* set_val(val) - сохраняет объект val в данный узел.\n",
    "* insert_left_child(ll_val) - вставляет новое бинарное дерево в левый дочерний узел. ll_val - это или представление бинарного дерева в виде списка списков или BinaryTreeLL.\n",
    "* insert_right_child(ll_val) - вставляет новое бинарное дерево в правый дочерний узел. ll_val - это или представление бинарного дерева в виде списка списков или BinaryTreeLL.\n",
    "\n",
    "* get_tree_list() - возвращает представление дерева в виде списка."
   ]
  },
  {
   "cell_type": "code",
   "execution_count": 86,
   "metadata": {
    "id": "IlI_urr4wr1l"
   },
   "outputs": [
    {
     "name": "stdout",
     "output_type": "stream",
     "text": [
      "None\n",
      "[1224]\n",
      "12\n",
      "None\n",
      "24\n",
      "[[321], [123], 53]\n",
      "[[32312], [132123], 53412]\n",
      "[[[321], [123], 53], [[32312], [132123], 53412], None]\n"
     ]
    }
   ],
   "source": [
    "class BinaryTreeLL:\n",
    "    def __init__(self, tree):\n",
    "        self.tree = tree\n",
    "    \n",
    "    def get_left_child(self, lst_index= None):\n",
    "        el = self.tree\n",
    "        if lst_index != None:\n",
    "            for i in lst_index:\n",
    "                el = el[i]\n",
    "        return el[0]\n",
    "\n",
    "    def get_right_child(self, lst_index= None):\n",
    "        el = self.tree\n",
    "        if lst_index != None:\n",
    "            try:\n",
    "                for i in lst_index:\n",
    "                    el = el[i]\n",
    "            except IndexError:\n",
    "                print(\"Введённые значения - некорректны.\")\n",
    "        return el[1]\n",
    "            \n",
    "    def get_val(self, lst_index= None):\n",
    "        el = self.tree\n",
    "        if lst_index != None:\n",
    "            for i in lst_index:\n",
    "                el = el[i]\n",
    "        return el[2]\n",
    "    \n",
    "    def set_val(self, val, lst_index= None):\n",
    "        el = self.tree\n",
    "        if lst_index != None:\n",
    "            for i in lst_index:\n",
    "                el = el[i]\n",
    "        el[2] = val\n",
    "        \n",
    "    def insert_left_child(self, ll_val, lst_index= None):\n",
    "        el = self.tree\n",
    "        if lst_index != None:\n",
    "            for i in lst_index:\n",
    "                el = el[i]\n",
    "        el[0] = ll_val\n",
    "    \n",
    "    def insert_right_child(self, ll_val, lst_index= None):\n",
    "        el = self.tree\n",
    "        if lst_index != None:\n",
    "            for i in lst_index:\n",
    "                el = el[i]\n",
    "        el[1] = ll_val\n",
    "    \n",
    "    def get_tree_list(self):\n",
    "        return self.tree\n",
    "\n",
    "\n",
    "\n",
    "tree1 = BinaryTreeLL([[[[4], [2], 4], [[123], None, 45], 0], [None, [1224], 12], None])\n",
    "\n",
    "print(tree1.get_left_child([1]))\n",
    "print(tree1.get_right_child([1]))\n",
    "\n",
    "print(tree1.get_val([1]))\n",
    "print(tree1.get_val())\n",
    "\n",
    "tree1.set_val(24, [0])\n",
    "print(tree1.get_val([0]))\n",
    "\n",
    "tree1.insert_left_child([[321], [123], 53])\n",
    "print(tree1.get_left_child())\n",
    "tree1.insert_right_child([[32312], [132123], 53412])\n",
    "print(tree1.get_right_child())\n",
    "\n",
    "print(tree1.get_tree_list())"
   ]
  },
  {
   "cell_type": "markdown",
   "metadata": {
    "id": "boj5zdOZwsoB"
   },
   "source": [
    "21) Создать класс BinaryNode реализующий API для хранения двоичных деревьев в виде объектов, ссылающихся на родителя и потомков. \n",
    "\n",
    "* BinaryNode(val) - создание нового экземпляра бинарного дерева. val - или значение root_val или бинарное дерево в виде BinaryNode.\n",
    "\n",
    "\n",
    "* get_val() - возвращает объект, хранящийся в данном узле.\n",
    "* set_val(val) - сохраняет объект val в данный узел.\n",
    "\n",
    "\n",
    "* get_left_child() - возвращает левый дочерний узел рассматриваемого узла.\n",
    "* get_right_child() - возвращает правый дочерний узел рассматриваемого узла.\n",
    "* set_left_child(node) - устанавливает новый левый дочерний узел. node - это или узел BinaryNode или None.\n",
    "* set_right_child(node) - устанавливает новый правый дочерний узел. node - это или узел BinaryNode или None.\n",
    "\n",
    "\n",
    "* get_parent() - возвращает родительский узел.\n",
    "* set_parent(node) - устанавливает новый родительский узел. node - это или узел BinaryNode или None."
   ]
  },
  {
   "cell_type": "code",
   "execution_count": null,
   "metadata": {},
   "outputs": [],
   "source": []
  }
 ],
 "metadata": {
  "anaconda-cloud": {},
  "colab": {
   "provenance": []
  },
  "kernelspec": {
   "display_name": "Python 3 (ipykernel)",
   "language": "python",
   "name": "python3"
  },
  "language_info": {
   "codemirror_mode": {
    "name": "ipython",
    "version": 3
   },
   "file_extension": ".py",
   "mimetype": "text/x-python",
   "name": "python",
   "nbconvert_exporter": "python",
   "pygments_lexer": "ipython3",
   "version": "3.10.9"
  }
 },
 "nbformat": 4,
 "nbformat_minor": 1
}
