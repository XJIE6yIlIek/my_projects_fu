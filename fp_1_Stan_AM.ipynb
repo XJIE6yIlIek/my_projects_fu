{
 "cells": [
  {
   "cell_type": "markdown",
   "id": "95efdd6d-30b2-4fa1-a582-4c0b0ba8cb19",
   "metadata": {
    "id": "95efdd6d-30b2-4fa1-a582-4c0b0ba8cb19"
   },
   "source": [
    "# Классная работа    \n",
    "### Функциональное программирование"
   ]
  },
  {
   "cell_type": "markdown",
   "id": "a534d4e3-59d7-44fc-bfb2-2dd8d5c9d731",
   "metadata": {
    "id": "a534d4e3-59d7-44fc-bfb2-2dd8d5c9d731",
    "tags": []
   },
   "source": [
    "Функциона́льное программи́рование — парадигма программирования,\n",
    " в которой процесс вычисления трактуется как вычисление значений функций\n",
    " в математическом понимании последних (в отличие от функций как подпрограмм в процедурном программировании).\n",
    "Функциональное программирование предполагает обходиться вычислением результатов функций\n",
    " от исходных данных и результатов других функций, и не предполагает явного хранения состояния программы.\n",
    "Соответственно, не предполагает оно и изменяемости этого состояния.\n",
    "\n",
    "Основано на Лямбда-исчислении (λ-исчисление), базирующемся на двух операциях:\n",
    "абстрации (операции, позволяющей конструировать функции) и аппликации (операции вызова функции).\n",
    "\n",
    "Определяет программу как вызов фукнции (аппликация).\n",
    "\n",
    "Принципы функционального программирования:\n",
    "* вызов функции для одних и тех же значений параметров должен возвращать одинаковый результат (чистые (pure) функции)\n",
    "* изменения контекста (внешних переменных) при вызове функции определяется как побочный эффект (нежелателен!)\n",
    "* изменяемость (mutation) переменных нежелательна\n",
    "* поддержка функций высших порядков (вызов функций для функций)"
   ]
  },
  {
   "cell_type": "markdown",
   "id": "a1153790-9f6f-4b60-b2ba-6f7bad8f5965",
   "metadata": {
    "id": "a1153790-9f6f-4b60-b2ba-6f7bad8f5965",
    "tags": []
   },
   "source": [
    "### Что делает язык функциональным или императивным?"
   ]
  },
  {
   "cell_type": "markdown",
   "id": "dbc469f7-e8ea-422a-8a6c-9b6a39b232e2",
   "metadata": {
    "id": "dbc469f7-e8ea-422a-8a6c-9b6a39b232e2"
   },
   "source": [
    "Функции:\n",
    "* функции \"граждане первого класса\" (functions as first-class citizens)\n",
    "* функции высшего порядка (higher-order functions)\n",
    "* замыкания (closures)\n",
    "* функции без побочных эффектов (pure functions)\n",
    "* рекурся, хвостовая рекурсия (recursion, tail recursion)\n",
    "\n",
    "Данные:\n",
    "* неизменяемые структуры данных (immutable data structures)\n",
    "* вычисление результатов функций вместо явного хранения (и изменения) состояния программы\n",
    "    (avoid changing-state)\n",
    "\n",
    "Идиомы:\n",
    "* итераторы, последовательности, ленивые вычисления, сопоставление с образцом,монады\n",
    "    (iterators, sequences, lazy evaluation, pattern matching, monads...."
   ]
  },
  {
   "cell_type": "markdown",
   "id": "24e3a630-8752-45f5-b9a2-e505b16047e0",
   "metadata": {
    "id": "24e3a630-8752-45f5-b9a2-e505b16047e0",
    "tags": []
   },
   "source": [
    "### Поддержка функционального программирования в Python"
   ]
  },
  {
   "cell_type": "markdown",
   "id": "cee67a67-7185-4e9a-b2b1-3e1ad0a6ab14",
   "metadata": {
    "id": "cee67a67-7185-4e9a-b2b1-3e1ad0a6ab14"
   },
   "source": [
    "PRO:\n",
    "* функции \"граждане первого класса\"\n",
    "* лямбда-функции (анонимные функции)\n",
    "* поддержка функциональных идом в стандартной библотеке: map/filter/reduce, itertools, operator\n",
    "* генераторы могут использоваться для ленивых вычислений (вычислений по требованию)\n",
    "\n",
    "CONTRA:\n",
    "* невозможно разделить функции с побочным эффектом и без\n",
    "* изменяемые переменные\n",
    "* дорогостоящие операции копирования в памяти\n",
    "* императивный стиль для циклов\n",
    "* отсутствие оптимизации для хвостовой рекурсии ()\n",
    "* нет синтаксиса для проверки шаблонов\n",
    "* система типов базируется только на классах\n",
    "* нет механизма перегрузки функций\n",
    "* в стандартной библиотеке не реализован механизм построения композиции функций\n",
    "* имеется только императивный механизм обработки ошибок"
   ]
  },
  {
   "cell_type": "markdown",
   "id": "420edae5-9336-419c-9a64-30d0a8d9b12a",
   "metadata": {
    "id": "420edae5-9336-419c-9a64-30d0a8d9b12a"
   },
   "source": [
    "### Функции в Python - Рекурсия "
   ]
  },
  {
   "cell_type": "code",
   "execution_count": 1,
   "id": "c93efdd4-d456-4d59-acc7-44a34b692b59",
   "metadata": {
    "id": "c93efdd4-d456-4d59-acc7-44a34b692b59",
    "tags": []
   },
   "outputs": [],
   "source": [
    "# Пример поиска наибольшего делителя в функциональном стиле:\n",
    "def gcd_fnc(x, y): \n",
    "    print(f'x: {x}, y: {y}')\n",
    "    if y == 0: \n",
    "        return x \n",
    "    else: \n",
    "        return gcd_fnc(y, x % y) # рекурсивный вызов функции"
   ]
  },
  {
   "cell_type": "code",
   "execution_count": 2,
   "id": "0ca590fe-c105-4d5d-bf4c-83dab925f092",
   "metadata": {
    "colab": {
     "base_uri": "https://localhost:8080/"
    },
    "id": "0ca590fe-c105-4d5d-bf4c-83dab925f092",
    "outputId": "0b3be7a4-36a9-41b7-84e9-01a42a3a52ec",
    "tags": []
   },
   "outputs": [
    {
     "name": "stdout",
     "output_type": "stream",
     "text": [
      "x: 12, y: 18\n",
      "x: 18, y: 12\n",
      "x: 12, y: 6\n",
      "x: 6, y: 0\n"
     ]
    },
    {
     "data": {
      "text/plain": [
       "6"
      ]
     },
     "execution_count": 2,
     "metadata": {},
     "output_type": "execute_result"
    }
   ],
   "source": [
    "gcd_fnc(12, 18)"
   ]
  },
  {
   "cell_type": "markdown",
   "id": "e61ff21e-f3bb-4d8c-b6fb-78c73dcf2fcd",
   "metadata": {
    "id": "e61ff21e-f3bb-4d8c-b6fb-78c73dcf2fcd"
   },
   "source": [
    "### Глобальные и локальные переменные"
   ]
  },
  {
   "cell_type": "markdown",
   "id": "a0df5ae3-67d6-4c9b-a5a9-efd34add11f2",
   "metadata": {
    "id": "a0df5ae3-67d6-4c9b-a5a9-efd34add11f2"
   },
   "source": [
    "__Локальные переменные (local)__ — это переменные, которые были объявлены в функции и используются непосредственно в ней. В разряд локальных переменных также входят аргументы функции.    \n",
    "__Нелокальные переменные (nonlocal)__ — это переменные, которые были объявлены во внешней функции относительно рассматриваемой функции.    \n",
    "__Глобальные переменные (global)__ — это переменные, которые были объявлены непосредственно в основном блоке программы (вне функций).    \n",
    "__Встроенные переменные (built-in)__ — это переменные и объекты, которые встроены в функционал Python изначально. Например, к ним относятся функции print, len, структуры данных list, dict, tuple и другие."
   ]
  },
  {
   "cell_type": "code",
   "execution_count": 4,
   "id": "73c99c0b-f1c4-4140-8f0e-bfe487fa81d5",
   "metadata": {
    "id": "73c99c0b-f1c4-4140-8f0e-bfe487fa81d5",
    "tags": []
   },
   "outputs": [],
   "source": [
    "# Источником побочных эффектов являются использование глобальных переменных:    \n",
    "factor = 0 \n",
    "def multiples(n): \n",
    "    global factor \n",
    "    factor = factor + 1 \n",
    "    return factor * n"
   ]
  },
  {
   "cell_type": "code",
   "execution_count": 5,
   "id": "811bc3f4-d02e-4b1a-99b2-df636b06da71",
   "metadata": {
    "colab": {
     "base_uri": "https://localhost:8080/"
    },
    "id": "811bc3f4-d02e-4b1a-99b2-df636b06da71",
    "outputId": "362cdd85-85b1-47a0-c013-a0de4d8dbce7",
    "tags": []
   },
   "outputs": [
    {
     "name": "stdout",
     "output_type": "stream",
     "text": [
      "0\n",
      "2\n"
     ]
    }
   ],
   "source": [
    "print(factor)\n",
    "print(multiples(2))"
   ]
  },
  {
   "cell_type": "code",
   "execution_count": 6,
   "id": "9751c598-b99a-4097-8452-5b5667f120d6",
   "metadata": {
    "colab": {
     "base_uri": "https://localhost:8080/"
    },
    "id": "9751c598-b99a-4097-8452-5b5667f120d6",
    "outputId": "96f0f5f1-422a-4484-fcf0-9b616229b954",
    "tags": []
   },
   "outputs": [
    {
     "name": "stdout",
     "output_type": "stream",
     "text": [
      "1\n",
      "4\n"
     ]
    }
   ],
   "source": [
    "print(factor)\n",
    "print(multiples(2)) # Резальтаты вызова функции с одним и тем же параметром различаются!"
   ]
  },
  {
   "cell_type": "markdown",
   "id": "3e082709-9f74-4a17-a797-3e3f349e9edd",
   "metadata": {
    "id": "3e082709-9f74-4a17-a797-3e3f349e9edd"
   },
   "source": [
    "### Функции в Python - граждане первого класса    \n",
    "Это означает, что функции можно динамически создвать и уничтожать, передвать их в другие функции, возвращать их как значения и так далее."
   ]
  },
  {
   "cell_type": "code",
   "execution_count": 8,
   "id": "323415ab-f930-4e2f-8350-6941a27c9107",
   "metadata": {
    "colab": {
     "base_uri": "https://localhost:8080/"
    },
    "id": "323415ab-f930-4e2f-8350-6941a27c9107",
    "outputId": "97e19b43-c02a-4eb6-8d76-967bf012e72f",
    "tags": []
   },
   "outputs": [
    {
     "data": {
      "text/plain": [
       "5"
      ]
     },
     "execution_count": 8,
     "metadata": {},
     "output_type": "execute_result"
    }
   ],
   "source": [
    "def add(a, b):\n",
    "    return a + b\n",
    "\n",
    "add(2, 3)"
   ]
  },
  {
   "cell_type": "code",
   "execution_count": 10,
   "id": "ec968c5f-2455-4db7-8a98-bfd800364468",
   "metadata": {
    "colab": {
     "base_uri": "https://localhost:8080/"
    },
    "id": "ec968c5f-2455-4db7-8a98-bfd800364468",
    "outputId": "eea4162d-52fd-49c5-e2e7-03e14f880357",
    "tags": []
   },
   "outputs": [
    {
     "data": {
      "text/plain": [
       "<function __main__.add(a, b)>"
      ]
     },
     "execution_count": 10,
     "metadata": {},
     "output_type": "execute_result"
    }
   ],
   "source": [
    "f = add\n",
    "f"
   ]
  },
  {
   "cell_type": "code",
   "execution_count": 13,
   "id": "a6f675c1-2e9e-48ce-a5f1-3aa28ae17116",
   "metadata": {
    "colab": {
     "base_uri": "https://localhost:8080/"
    },
    "id": "a6f675c1-2e9e-48ce-a5f1-3aa28ae17116",
    "outputId": "a652ffdb-9fa1-488e-865f-b17ec2e4680a",
    "tags": []
   },
   "outputs": [
    {
     "data": {
      "text/plain": [
       "7"
      ]
     },
     "execution_count": 13,
     "metadata": {},
     "output_type": "execute_result"
    }
   ],
   "source": [
    "f(2, 5)"
   ]
  },
  {
   "cell_type": "code",
   "execution_count": 15,
   "id": "a8c00c90-363a-4f34-b4bc-2b86891e97cb",
   "metadata": {
    "colab": {
     "base_uri": "https://localhost:8080/"
    },
    "id": "a8c00c90-363a-4f34-b4bc-2b86891e97cb",
    "outputId": "2b7b1cf0-39db-4243-d7bc-98085be525d0",
    "tags": []
   },
   "outputs": [
    {
     "data": {
      "text/plain": [
       "<function __main__.<lambda>(a, b)>"
      ]
     },
     "execution_count": 15,
     "metadata": {},
     "output_type": "execute_result"
    }
   ],
   "source": [
    "# лямбда функции:\n",
    "add2 = lambda a, b: a + b\n",
    "add2"
   ]
  },
  {
   "cell_type": "code",
   "execution_count": 16,
   "id": "7ec5377a-8ae7-47ee-a520-e8e4e4f983c9",
   "metadata": {
    "colab": {
     "base_uri": "https://localhost:8080/"
    },
    "id": "7ec5377a-8ae7-47ee-a520-e8e4e4f983c9",
    "outputId": "e3c99963-1f7f-4df0-bd9c-1758d92e3cfc",
    "tags": []
   },
   "outputs": [
    {
     "data": {
      "text/plain": [
       "7"
      ]
     },
     "execution_count": 16,
     "metadata": {},
     "output_type": "execute_result"
    }
   ],
   "source": [
    "add2(3, 4)"
   ]
  },
  {
   "cell_type": "markdown",
   "id": "a13b2f52-c670-46f5-adbc-237e22788f4d",
   "metadata": {
    "id": "a13b2f52-c670-46f5-adbc-237e22788f4d"
   },
   "source": [
    "Ограничения создания лямбда-функций:\n",
    "* в теле функции может быть заключено только одно выражение\n",
    "* значение выражения всега возвращается, как результат работы функции"
   ]
  },
  {
   "cell_type": "markdown",
   "id": "44e6bd2c-3cd7-41b7-8e6b-7543624ebf04",
   "metadata": {
    "id": "44e6bd2c-3cd7-41b7-8e6b-7543624ebf04"
   },
   "source": [
    "### Вложенные функции"
   ]
  },
  {
   "cell_type": "markdown",
   "id": "86f3720d-f4dd-4e40-9ea9-95140fce20c2",
   "metadata": {
    "id": "86f3720d-f4dd-4e40-9ea9-95140fce20c2"
   },
   "source": [
    "В Python одну функцию можно вложить в другую функцию, причем уровень вложенности неограничен.\n",
    "В этом случае вложенная функция получает свою собственную локальную область видимости и\n",
    "имеет достуn к идентификаторам внутри функции-родителя.   \n",
    "\n",
    "Вложенные функции могут создаваться в целях защиты их от всего что происходит вне функции (инкапсуляции):"
   ]
  },
  {
   "cell_type": "code",
   "execution_count": 17,
   "id": "ed54ccf0-d3bf-4350-87ca-04670a45ee10",
   "metadata": {
    "colab": {
     "base_uri": "https://localhost:8080/",
     "height": 217
    },
    "id": "ed54ccf0-d3bf-4350-87ca-04670a45ee10",
    "outputId": "cbe2c74c-5adf-4973-e576-7446224ba25a",
    "tags": []
   },
   "outputs": [
    {
     "name": "stdout",
     "output_type": "stream",
     "text": [
      "10 12\n"
     ]
    },
    {
     "ename": "NameError",
     "evalue": "ignored",
     "output_type": "error",
     "traceback": [
      "\u001b[0;31m---------------------------------------------------------------------------\u001b[0m",
      "\u001b[0;31mNameError\u001b[0m                                 Traceback (most recent call last)",
      "\u001b[0;32m<ipython-input-17-2abe02be0048>\u001b[0m in \u001b[0;36m<module>\u001b[0;34m\u001b[0m\n\u001b[1;32m      6\u001b[0m \u001b[0;34m\u001b[0m\u001b[0m\n\u001b[1;32m      7\u001b[0m \u001b[0mouter\u001b[0m\u001b[0;34m(\u001b[0m\u001b[0;36m10\u001b[0m\u001b[0;34m)\u001b[0m\u001b[0;34m\u001b[0m\u001b[0;34m\u001b[0m\u001b[0m\n\u001b[0;32m----> 8\u001b[0;31m \u001b[0minner_add\u001b[0m\u001b[0;34m(\u001b[0m\u001b[0;36m10\u001b[0m\u001b[0;34m)\u001b[0m \u001b[0;31m# без специальных действий доступ к внутренней функции извне невозможен\u001b[0m\u001b[0;34m\u001b[0m\u001b[0;34m\u001b[0m\u001b[0m\n\u001b[0m",
      "\u001b[0;31mNameError\u001b[0m: name 'inner_add' is not defined"
     ]
    }
   ],
   "source": [
    "def outer(num1):\n",
    "    def inner_add(num2):  # не может быть вызвана вне outer\n",
    "        return num1 + num2 # используется перменная, объявленная в outer\n",
    "    num_res = inner_add(2)\n",
    "    print(num1, num_res)\n",
    "\n",
    "outer(10)\n",
    "inner_add(10) # без специальных действий доступ к внутренней функции извне невозможен"
   ]
  },
  {
   "cell_type": "markdown",
   "id": "2394d227-4aab-4d6f-a58b-69e8c72f5f6b",
   "metadata": {
    "id": "2394d227-4aab-4d6f-a58b-69e8c72f5f6b"
   },
   "source": [
    "Использование внутренних функций для избавления от повторяющихся фрагментов кода в одной функции\n",
    "(применение принципа DRY).\n",
    "\n",
    "Don’t repeat yourself, DRY (рус. не повторяйся) — это принцип разработки программного обеспечения,\n",
    "    нацеленный на снижение повторения информации различного рода,\n",
    "    особенно в системах со множеством слоёв абстрагирования.\n",
    "Принцип DRY формулируется как: «Каждая часть знания должна иметь единственное,\n",
    "    непротиворечивое и авторитетное представление в рамках системы»"
   ]
  },
  {
   "cell_type": "markdown",
   "id": "6a394014-3118-4281-a504-fc97b152bacd",
   "metadata": {
    "id": "6a394014-3118-4281-a504-fc97b152bacd"
   },
   "source": [
    "## **Задачи**"
   ]
  },
  {
   "cell_type": "markdown",
   "id": "4350ab6e-9656-4067-b9cf-cecc551bb757",
   "metadata": {
    "id": "4350ab6e-9656-4067-b9cf-cecc551bb757"
   },
   "source": [
    "1) Реализовать функцию factorial(n) двумя способами: с помощью цикла и рекурсии."
   ]
  },
  {
   "cell_type": "code",
   "execution_count": 1,
   "id": "69d60dd2-79fc-40c8-910a-7975397240a2",
   "metadata": {
    "id": "69d60dd2-79fc-40c8-910a-7975397240a2"
   },
   "outputs": [
    {
     "name": "stdout",
     "output_type": "stream",
     "text": [
      "1\n"
     ]
    }
   ],
   "source": [
    "def factorial_loop(n):\n",
    "    factor = 1\n",
    "    for i in range(1, n + 1):\n",
    "        factor *= i\n",
    "    return factor\n",
    "\n",
    "print(factorial_loop(0))"
   ]
  },
  {
   "cell_type": "code",
   "execution_count": 10,
   "id": "1c980fb6",
   "metadata": {},
   "outputs": [
    {
     "name": "stdout",
     "output_type": "stream",
     "text": [
      "720\n"
     ]
    }
   ],
   "source": [
    "def factorial_re(n, factor = 1):\n",
    "    if n == 0:\n",
    "        return factor\n",
    "    else:\n",
    "        factor *= n\n",
    "        return factorial_re(n - 1, factor)\n",
    "\n",
    "print(factorial_re(6))"
   ]
  },
  {
   "cell_type": "markdown",
   "id": "c3af2af3-09c5-4ccd-93f2-44018b5bd151",
   "metadata": {
    "id": "c3af2af3-09c5-4ccd-93f2-44018b5bd151"
   },
   "source": [
    "1.1) С использованием глобальной переменной реализовать вывод на экран отладочной информации о вызовах функции factorial(n) печатающий с отступами, соответствующими глубине рекурсии.\n",
    "\n",
    "Пример:\n",
    "\n",
    "In: factorial(4)\n",
    "    \n",
    "    factorial(4)\n",
    "\n",
    "        factorial(3)\n",
    "        \n",
    "            factorial(2)\n",
    "\n",
    "                factorial(1)\n",
    "      \n",
    "                    factorial(0)\n",
    "                    "
   ]
  },
  {
   "cell_type": "code",
   "execution_count": 25,
   "id": "21d2cfad-fe27-403f-bec8-a04c4e267746",
   "metadata": {
    "id": "21d2cfad-fe27-403f-bec8-a04c4e267746"
   },
   "outputs": [
    {
     "name": "stdout",
     "output_type": "stream",
     "text": [
      "In: factorial(2)\n",
      "     factorial(2)\n",
      "         factorial(1)\n",
      "             factorial(0)\n"
     ]
    },
    {
     "data": {
      "text/plain": [
       "2"
      ]
     },
     "execution_count": 25,
     "metadata": {},
     "output_type": "execute_result"
    }
   ],
   "source": [
    "def factorial_re(n, factor = 1):\n",
    "    global count\n",
    "    if count == 0:\n",
    "        print(f\"In: factorial({n})\")\n",
    "        count += 1\n",
    "    if n == 0:\n",
    "        print(\"    \" * count, f\"factorial({n})\")\n",
    "        return factor\n",
    "    else:\n",
    "        print(\"    \" * count, f\"factorial({n})\")\n",
    "        count += 1\n",
    "        factor *= n\n",
    "        return factorial_re(n - 1, factor)\n",
    "\n",
    "count = 0\n",
    "factorial_re(2)"
   ]
  },
  {
   "cell_type": "markdown",
   "id": "156e631a-a050-4eda-9c37-e14c0c631f77",
   "metadata": {
    "id": "156e631a-a050-4eda-9c37-e14c0c631f77"
   },
   "source": [
    "1.2) Реализовать функции printIn(s) и printOut(s), которые выводят строки s с отступами, при этом каждый вывод printIn(s) приводит к увеличению отсутпа, а  каждый вывод printOut(s) приводит к уменьшению отсутпа."
   ]
  },
  {
   "cell_type": "code",
   "execution_count": 56,
   "id": "015c3f2c-0def-4ff3-8989-97e7a906a438",
   "metadata": {
    "id": "015c3f2c-0def-4ff3-8989-97e7a906a438"
   },
   "outputs": [
    {
     "name": "stdout",
     "output_type": "stream",
     "text": [
      " aaa\n",
      "     aaa\n",
      " aaa\n",
      "     aaa\n",
      "         aaa\n"
     ]
    }
   ],
   "source": [
    "def println(s):\n",
    "    global count\n",
    "    print(\"    \" * count, s)\n",
    "    count += 1\n",
    "\n",
    "def printOut(s):\n",
    "    global count\n",
    "    print(\"    \" * count, s)\n",
    "    if count > 0:\n",
    "        count -= 1\n",
    "    \n",
    "count = 0\n",
    "println(\"aaa\")\n",
    "printOut(\"aaa\")\n",
    "println(\"aaa\")\n",
    "println(\"aaa\")\n",
    "println(\"aaa\")"
   ]
  },
  {
   "cell_type": "markdown",
   "id": "323f0ca7-958c-4ecd-a93d-0d5f6db63428",
   "metadata": {
    "id": "323f0ca7-958c-4ecd-a93d-0d5f6db63428"
   },
   "source": [
    "1.3) С использованием printIn(s) и printOut(s) реализовать отладочный вывод работы factorial(n) как для вызовов функций, так и для возвращаемых значений.\n",
    "\n",
    "Пример:\n",
    "\n",
    "In: factorial(4)\n",
    "\n",
    "    factorial(4)\n",
    "\n",
    "        factorial(3)\n",
    "        \n",
    "            factorial(2)\n",
    "    \n",
    "                factorial(1)\n",
    "      \n",
    "                    factorial(0)\n",
    "                    \n",
    "                    1\n",
    "                    \n",
    "                1\n",
    "                \n",
    "            2\n",
    "            \n",
    "        6\n",
    "        \n",
    "    24\n"
   ]
  },
  {
   "cell_type": "code",
   "execution_count": null,
   "id": "2584695d-31ae-4e4e-a73d-962996e9185e",
   "metadata": {
    "id": "2584695d-31ae-4e4e-a73d-962996e9185e"
   },
   "outputs": [],
   "source": []
  },
  {
   "cell_type": "markdown",
   "id": "67d9913f-e259-4303-9be2-b79cfb775649",
   "metadata": {
    "id": "67d9913f-e259-4303-9be2-b79cfb775649"
   },
   "source": [
    "2) Рекурсивно реализовать функцию fib(n) вычисляющую значение n-го числа Фибоначи. Учесть возможность вычисления числа с отрицательным индексом."
   ]
  },
  {
   "cell_type": "code",
   "execution_count": 16,
   "id": "46cd25f0-a810-4552-af7e-d0afe68f4194",
   "metadata": {
    "id": "46cd25f0-a810-4552-af7e-d0afe68f4194"
   },
   "outputs": [
    {
     "name": "stdout",
     "output_type": "stream",
     "text": [
      "8\n"
     ]
    }
   ],
   "source": [
    "def fib(n):\n",
    "    global n1, n2, count\n",
    "    if n > 0:\n",
    "        if n - 1 == 0:\n",
    "            return n1\n",
    "        else:\n",
    "            temp = n2\n",
    "            n2 += n1\n",
    "            n1 = temp\n",
    "            return fib(n - 1)\n",
    "    else:\n",
    "        if n == 0:\n",
    "            return n2 - n1\n",
    "        else:\n",
    "            temp = n1\n",
    "            n1 = n2 - n1\n",
    "            n2 = temp\n",
    "            return fib(n + 1)\n",
    "        \n",
    "n1, n2 = 1, 1\n",
    "print(fib(6))"
   ]
  },
  {
   "cell_type": "markdown",
   "id": "bdad751c-0570-45ec-a768-c77dd9ed3fa9",
   "metadata": {
    "id": "bdad751c-0570-45ec-a768-c77dd9ed3fa9"
   },
   "source": [
    "2.1) С использованием printIn(s) и printOut(s) реализовать отладочный вывод работы fib(n)"
   ]
  },
  {
   "cell_type": "code",
   "execution_count": null,
   "id": "f9d04241-54eb-4b12-805c-214483300cf5",
   "metadata": {
    "id": "f9d04241-54eb-4b12-805c-214483300cf5"
   },
   "outputs": [],
   "source": []
  },
  {
   "cell_type": "markdown",
   "id": "a708b5bb-dcbd-42d6-b22b-aaea1ae3b77e",
   "metadata": {
    "id": "a708b5bb-dcbd-42d6-b22b-aaea1ae3b77e"
   },
   "source": [
    "3) Реализовать функцию, принимающую на вход итерируемый объект функций и возвращающую словарь, в котором ключ - это первое слово из аннотации функции, а значение - ссылка на функцию."
   ]
  },
  {
   "cell_type": "code",
   "execution_count": null,
   "id": "f35a8875-211d-460c-9425-b9cb2172483e",
   "metadata": {
    "id": "f35a8875-211d-460c-9425-b9cb2172483e"
   },
   "outputs": [],
   "source": []
  },
  {
   "cell_type": "markdown",
   "id": "c0198ed5-2555-4dee-9ee1-91d26a542df1",
   "metadata": {
    "id": "c0198ed5-2555-4dee-9ee1-91d26a542df1"
   },
   "source": [
    "4) Создать функцию реализующую REPL для словаря, созданного в задаче 3. Отдельно должен предусматриваться выход из цикла REPL.  \n",
    "\n",
    "REPL – это программа, которая работает как командная оболочка (программу REPL ещё называют интерактивным интерпретатором Python), предназначенная для ввода и выполнения кода на языке Python.     \n",
    "Акроним REPL расшифровывается так:\n",
    "- Read — прочитать ввод от пользователя\n",
    "- Eval — выполнить введённый код\n",
    "- Print — распечатать на экран результат\n",
    "- Loop — снова войти в режим ожидания"
   ]
  },
  {
   "cell_type": "code",
   "execution_count": null,
   "id": "a8276ca6-bc76-49be-8184-015a7964cfc1",
   "metadata": {
    "id": "a8276ca6-bc76-49be-8184-015a7964cfc1"
   },
   "outputs": [],
   "source": []
  },
  {
   "cell_type": "markdown",
   "id": "9aacef99-cb13-4372-a79f-7f2e9852b002",
   "metadata": {
    "id": "9aacef99-cb13-4372-a79f-7f2e9852b002"
   },
   "source": [
    "4.1) Доработать REPL из задачи 4 так, чтобы пользователь мог передвать произвольное количество аргументов в функцию (при вводе пользователя аргументы разделяются пробелами).\n",
    "\n",
    "Пример:\n",
    "\n",
    "ввод пользователя>СКЛЕИТЬ текст1 текст2 текст3\n",
    "\n",
    "результат>текст1текст2текст3"
   ]
  },
  {
   "cell_type": "code",
   "execution_count": null,
   "id": "83ece973-26fe-40f5-a8b2-298c347509ad",
   "metadata": {
    "id": "83ece973-26fe-40f5-a8b2-298c347509ad"
   },
   "outputs": [],
   "source": []
  },
  {
   "cell_type": "markdown",
   "id": "89ec3e9a-1cd6-481d-b90e-5f7c08462145",
   "metadata": {
    "id": "89ec3e9a-1cd6-481d-b90e-5f7c08462145"
   },
   "source": [
    "4.2) Доработать REPL из задачи 4 так, чтобы пользователь мог передвать  аргументы в функцию по их имени(при вводе пользователя именованные аргументы опредлеяются как ИМЯ=ЗНАЧЕНИЕ). \n",
    "\n",
    "Пример:\n",
    "\n",
    "ввод пользователя>БРОСИТЬ расстояние=5 \n",
    "\n",
    "\n",
    "результат>Предмет брошен на расстояние 5"
   ]
  },
  {
   "cell_type": "code",
   "execution_count": null,
   "id": "ec3792a3-6b15-4421-ba51-0a1dc55a87f0",
   "metadata": {
    "id": "ec3792a3-6b15-4421-ba51-0a1dc55a87f0"
   },
   "outputs": [],
   "source": []
  },
  {
   "cell_type": "markdown",
   "id": "1aa6d021-fa8e-4352-820b-8a13a3627bd8",
   "metadata": {
    "id": "1aa6d021-fa8e-4352-820b-8a13a3627bd8"
   },
   "source": [
    "5) Реализовать функцию вычисления факториала с помощью хвостовой рекурсии."
   ]
  },
  {
   "cell_type": "code",
   "execution_count": null,
   "id": "0540443d-af88-49ce-a9ab-c6e389daed34",
   "metadata": {
    "id": "0540443d-af88-49ce-a9ab-c6e389daed34"
   },
   "outputs": [],
   "source": []
  },
  {
   "cell_type": "markdown",
   "id": "fabc3de6-dfe0-4975-afe0-ce055bfaaf15",
   "metadata": {
    "id": "fabc3de6-dfe0-4975-afe0-ce055bfaaf15"
   },
   "source": [
    "6) Реализовать функцию подсчета n-го числа Фибоначчи с помощью хвостовой рекурсии."
   ]
  },
  {
   "cell_type": "code",
   "execution_count": null,
   "id": "5106874d-27d2-4340-a2da-6092627a6f5e",
   "metadata": {
    "id": "5106874d-27d2-4340-a2da-6092627a6f5e"
   },
   "outputs": [],
   "source": []
  }
 ],
 "metadata": {
  "colab": {
   "provenance": []
  },
  "kernelspec": {
   "display_name": "Python 3 (ipykernel)",
   "language": "python",
   "name": "python3"
  },
  "language_info": {
   "codemirror_mode": {
    "name": "ipython",
    "version": 3
   },
   "file_extension": ".py",
   "mimetype": "text/x-python",
   "name": "python",
   "nbconvert_exporter": "python",
   "pygments_lexer": "ipython3",
   "version": "3.9.7"
  }
 },
 "nbformat": 4,
 "nbformat_minor": 5
}
