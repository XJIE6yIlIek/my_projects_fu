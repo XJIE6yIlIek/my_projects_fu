{
  "nbformat": 4,
  "nbformat_minor": 0,
  "metadata": {
    "colab": {
      "provenance": []
    },
    "kernelspec": {
      "name": "python3",
      "display_name": "Python 3"
    },
    "language_info": {
      "name": "python"
    }
  },
  "cells": [
    {
      "cell_type": "code",
      "source": [
        "from sklearn import datasets\n",
        "from sklearn.naive_bayes import MultinomialNB, BernoulliNB, CategoricalNB, ComplementNB\n",
        "from sklearn.metrics import confusion_matrix, accuracy_score, f1_score\n",
        "import matplotlib.pyplot as plt\n",
        "import numpy as np\n",
        "import pandas as pd\n",
        "from google.colab import files"
      ],
      "metadata": {
        "id": "SuccQr-jnyhf"
      },
      "execution_count": 257,
      "outputs": []
    },
    {
      "cell_type": "markdown",
      "source": [
        "1. На использованном в работе наборе данных примените другие вариации модели наивного Байеса - Мультономиальный, Бернулли, категориальные и комплементарный. Для каждой модели сделайте вывод о ее применимости."
      ],
      "metadata": {
        "id": "TLGmeiWEpM7z"
      }
    },
    {
      "cell_type": "code",
      "execution_count": 258,
      "metadata": {
        "id": "rA6F18FJlmGK"
      },
      "outputs": [],
      "source": [
        "data = datasets.load_breast_cancer()\n",
        "X = data.data\n",
        "y = data.target"
      ]
    },
    {
      "cell_type": "code",
      "source": [
        "mult_nb = MultinomialNB().fit(X, y)\n",
        "bern_nb = BernoulliNB().fit(X, y)\n",
        "comp_nb = ComplementNB().fit(X, y)\n",
        "cat_nb = CategoricalNB().fit(X, y)"
      ],
      "metadata": {
        "id": "CUyfLST2n7N4"
      },
      "execution_count": 259,
      "outputs": []
    },
    {
      "cell_type": "code",
      "source": [
        "y_pred_mult = mult_nb.predict(X)\n",
        "print(confusion_matrix(y, y_pred_mult))\n",
        "print('Accuracy= ', accuracy_score(y, y_pred_mult))\n",
        "print('F1_score= ', f1_score(y, y_pred_mult))"
      ],
      "metadata": {
        "colab": {
          "base_uri": "https://localhost:8080/"
        },
        "id": "GRa4wOoU1RUu",
        "outputId": "31134ae4-3c17-4ca2-a625-756a62162ab9"
      },
      "execution_count": 260,
      "outputs": [
        {
          "output_type": "stream",
          "name": "stdout",
          "text": [
            "[[163  49]\n",
            " [ 10 347]]\n",
            "Accuracy=  0.8963093145869947\n",
            "F1_score=  0.9216467463479415\n"
          ]
        }
      ]
    },
    {
      "cell_type": "markdown",
      "source": [
        "MultinomialNB даёт точность в 89%, делая больше ошибок в первом классе, чем во втором, однако, он применим для данного датасета."
      ],
      "metadata": {
        "id": "cEs4aAQb1_ez"
      }
    },
    {
      "cell_type": "code",
      "source": [
        "y_pred_bern = bern_nb.predict(X)\n",
        "print(confusion_matrix(y, y_pred_bern))\n",
        "print('Accuracy= ', accuracy_score(y, y_pred_bern))\n",
        "print('F1_score= ', f1_score(y, y_pred_bern))"
      ],
      "metadata": {
        "colab": {
          "base_uri": "https://localhost:8080/"
        },
        "id": "U7zp9MiB1RnO",
        "outputId": "d150cb62-eda3-4bd8-d3b1-978bb396dd60"
      },
      "execution_count": 261,
      "outputs": [
        {
          "output_type": "stream",
          "name": "stdout",
          "text": [
            "[[  0 212]\n",
            " [  0 357]]\n",
            "Accuracy=  0.6274165202108963\n",
            "F1_score=  0.7710583153347732\n"
          ]
        }
      ]
    },
    {
      "cell_type": "markdown",
      "source": [
        "BernoulliNB даёт точность в 62%, но всегда определяет лишь второй класс, а первый класс относит также ко второму. Данный классификатор не применим к данному датасету."
      ],
      "metadata": {
        "id": "JaCCh4Wi2i5d"
      }
    },
    {
      "cell_type": "code",
      "source": [
        "y_pred_comp = comp_nb.predict(X)\n",
        "print(confusion_matrix(y, y_pred_comp))\n",
        "print('Accuracy= ', accuracy_score(y, y_pred_comp))\n",
        "print('F1_score= ', f1_score(y, y_pred_comp))"
      ],
      "metadata": {
        "colab": {
          "base_uri": "https://localhost:8080/"
        },
        "id": "f4Xi0Shv1Rut",
        "outputId": "e3c53194-981b-40e6-f2c7-d2f658959b78"
      },
      "execution_count": 262,
      "outputs": [
        {
          "output_type": "stream",
          "name": "stdout",
          "text": [
            "[[163  49]\n",
            " [ 11 346]]\n",
            "Accuracy=  0.8945518453427065\n",
            "F1_score=  0.9202127659574469\n"
          ]
        }
      ]
    },
    {
      "cell_type": "markdown",
      "source": [
        "ComplementNB похож по точности и кол-ву ошибок в каждом классе на MultinomialNB и также применим к данному датасету."
      ],
      "metadata": {
        "id": "Cd_ptikZ2yZy"
      }
    },
    {
      "cell_type": "code",
      "source": [
        "y_pred_cat = cat_nb.predict(X)\n",
        "print(confusion_matrix(y, y_pred_cat))\n",
        "print('Accuracy= ', accuracy_score(y, y_pred_cat))\n",
        "print('F1_score= ', f1_score(y, y_pred_cat))"
      ],
      "metadata": {
        "colab": {
          "base_uri": "https://localhost:8080/"
        },
        "id": "nCjqkzQ60Kc1",
        "outputId": "a8e9f24b-6f94-4903-f59d-0a19e8699e9f"
      },
      "execution_count": 263,
      "outputs": [
        {
          "output_type": "stream",
          "name": "stdout",
          "text": [
            "[[192  20]\n",
            " [  3 354]]\n",
            "Accuracy=  0.9595782073813708\n",
            "F1_score=  0.9685362517099864\n"
          ]
        }
      ]
    },
    {
      "cell_type": "markdown",
      "source": [
        "CategoricalNB используется для классификации датасета в котором отсутствуют отрицательные значения, также значения должны иметь категориальное распределение. В данном случае, модель имеет точность ~96% и потому классификатор применим к данному датасету."
      ],
      "metadata": {
        "id": "G9EKAU1fziN3"
      }
    },
    {
      "cell_type": "markdown",
      "source": [
        "2. Загрузите набор данных о выживших на титанике, прилагающийся к этой работе. Повторите на нем моделирование из методических указаний. Попробуйте разные варианты байесовского классификатора в зависимости от форм расрпеделния эмпирических данных."
      ],
      "metadata": {
        "id": "wKuvHBBm3KHQ"
      }
    },
    {
      "cell_type": "code",
      "source": [
        "url = \"https://raw.githubusercontent.com/koroteevmv/ML_course/main/ML3.6%20bayes/titanic.csv\"\n",
        "data = pd.read_csv(url, index_col=0)\n",
        "X = data.drop(\"Survived\", axis= 1).values\n",
        "y = data[\"Survived\"].values"
      ],
      "metadata": {
        "id": "oQuKkKvv3J4e"
      },
      "execution_count": 264,
      "outputs": []
    },
    {
      "cell_type": "code",
      "source": [
        "gaus_nb = GaussianNB().fit(X, y)"
      ],
      "metadata": {
        "id": "GSTnjmaU6Ox2"
      },
      "execution_count": 265,
      "outputs": []
    },
    {
      "cell_type": "code",
      "source": [
        "y_pred_gaus = gaus_nb.predict(X)\n",
        "print(confusion_matrix(y, y_pred_gaus))\n",
        "print('Accuracy= ', accuracy_score(y, y_pred_gaus))\n",
        "print('F1_score= ', f1_score(y, y_pred_gaus))"
      ],
      "metadata": {
        "colab": {
          "base_uri": "https://localhost:8080/"
        },
        "id": "2ZU6Dfqt76oH",
        "outputId": "1df10317-257a-4b33-baec-115bf756ec5d"
      },
      "execution_count": 266,
      "outputs": [
        {
          "output_type": "stream",
          "name": "stdout",
          "text": [
            "[[453  96]\n",
            " [ 94 248]]\n",
            "Accuracy=  0.7867564534231201\n",
            "F1_score=  0.7230320699708455\n"
          ]
        }
      ]
    },
    {
      "cell_type": "code",
      "source": [
        "f = plt.figure(figsize=(15, 7))\n",
        "for i in range(9):\n",
        "    plt.subplot(6, 5, i+1)\n",
        "    plt.hist(X[:, i])\n",
        "\n",
        "    plt.xlabel(data.columns[i + 1])\n",
        "f.subplots_adjust(hspace=0.9,wspace=0.3)\n",
        "plt.suptitle('Гистограммы признаков',fontsize=14)\n",
        "plt.show()"
      ],
      "metadata": {
        "colab": {
          "base_uri": "https://localhost:8080/",
          "height": 299
        },
        "id": "LONN6KAS8eYv",
        "outputId": "b44ce15a-146f-4ca4-c298-29508bd3fab1"
      },
      "execution_count": 267,
      "outputs": [
        {
          "output_type": "display_data",
          "data": {
            "text/plain": [
              "<Figure size 1500x700 with 9 Axes>"
            ],
            "image/png": "[encoded data removed]"
          },
          "metadata": {}
        }
      ]
    },
    {
      "cell_type": "markdown",
      "source": [
        "Большая часть признаков напоминает экспонинцеальное распределение, уберём те, что не являются таковыми."
      ],
      "metadata": {
        "id": "9t9M1CyE99-s"
      }
    },
    {
      "cell_type": "code",
      "source": [
        "data_exp = data.drop([\"Pclass\", \"Sex\", \"Age\", \"Embarked_S\"], axis= 1)\n",
        "data_exp.head()"
      ],
      "metadata": {
        "colab": {
          "base_uri": "https://localhost:8080/",
          "height": 238
        },
        "id": "kRif9OOh-Roe",
        "outputId": "2cd8d942-9800-4015-f324-3c0ba918e213"
      },
      "execution_count": 268,
      "outputs": [
        {
          "output_type": "execute_result",
          "data": {
            "text/plain": [
              "             Survived  SibSp  Parch     Fare  Embarked_C  Embarked_Q\n",
              "PassengerId                                                         \n",
              "1                   0      1      0   7.2500           0           0\n",
              "2                   1      1      0  71.2833           1           0\n",
              "3                   1      0      0   7.9250           0           0\n",
              "4                   1      1      0  53.1000           0           0\n",
              "5                   0      0      0   8.0500           0           0"
            ],
            "text/html": [
              "\n",
              "  <div id=\"df-331cbbcc-623e-4acd-aafc-8a97501feb74\" class=\"colab-df-container\">\n",
              "    <div>\n",
              "<style scoped>\n",
              "    .dataframe tbody tr th:only-of-type {\n",
              "        vertical-align: middle;\n",
              "    }\n",
              "\n",
              "    .dataframe tbody tr th {\n",
              "        vertical-align: top;\n",
              "    }\n",
              "\n",
              "    .dataframe thead th {\n",
              "        text-align: right;\n",
              "    }\n",
              "</style>\n",
              "<table border=\"1\" class=\"dataframe\">\n",
              "  <thead>\n",
              "    <tr style=\"text-align: right;\">\n",
              "      <th></th>\n",
              "      <th>Survived</th>\n",
              "      <th>SibSp</th>\n",
              "      <th>Parch</th>\n",
              "      <th>Fare</th>\n",
              "      <th>Embarked_C</th>\n",
              "      <th>Embarked_Q</th>\n",
              "    </tr>\n",
              "    <tr>\n",
              "      <th>PassengerId</th>\n",
              "      <th></th>\n",
              "      <th></th>\n",
              "      <th></th>\n",
              "      <th></th>\n",
              "      <th></th>\n",
              "      <th></th>\n",
              "    </tr>\n",
              "  </thead>\n",
              "  <tbody>\n",
              "    <tr>\n",
              "      <th>1</th>\n",
              "      <td>0</td>\n",
              "      <td>1</td>\n",
              "      <td>0</td>\n",
              "      <td>7.2500</td>\n",
              "      <td>0</td>\n",
              "      <td>0</td>\n",
              "    </tr>\n",
              "    <tr>\n",
              "      <th>2</th>\n",
              "      <td>1</td>\n",
              "      <td>1</td>\n",
              "      <td>0</td>\n",
              "      <td>71.2833</td>\n",
              "      <td>1</td>\n",
              "      <td>0</td>\n",
              "    </tr>\n",
              "    <tr>\n",
              "      <th>3</th>\n",
              "      <td>1</td>\n",
              "      <td>0</td>\n",
              "      <td>0</td>\n",
              "      <td>7.9250</td>\n",
              "      <td>0</td>\n",
              "      <td>0</td>\n",
              "    </tr>\n",
              "    <tr>\n",
              "      <th>4</th>\n",
              "      <td>1</td>\n",
              "      <td>1</td>\n",
              "      <td>0</td>\n",
              "      <td>53.1000</td>\n",
              "      <td>0</td>\n",
              "      <td>0</td>\n",
              "    </tr>\n",
              "    <tr>\n",
              "      <th>5</th>\n",
              "      <td>0</td>\n",
              "      <td>0</td>\n",
              "      <td>0</td>\n",
              "      <td>8.0500</td>\n",
              "      <td>0</td>\n",
              "      <td>0</td>\n",
              "    </tr>\n",
              "  </tbody>\n",
              "</table>\n",
              "</div>\n",
              "    <div class=\"colab-df-buttons\">\n",
              "\n",
              "  <div class=\"colab-df-container\">\n",
              "    <button class=\"colab-df-convert\" onclick=\"convertToInteractive('df-331cbbcc-623e-4acd-aafc-8a97501feb74')\"\n",
              "            title=\"Convert this dataframe to an interactive table.\"\n",
              "            style=\"display:none;\">\n",
              "\n",
              "  <svg xmlns=\"http://www.w3.org/2000/svg\" height=\"24px\" viewBox=\"0 -960 960 960\">\n",
              "    <path d=\"M120-120v-720h720v720H120Zm60-500h600v-160H180v160Zm220 220h160v-160H400v160Zm0 220h160v-160H400v160ZM180-400h160v-160H180v160Zm440 0h160v-160H620v160ZM180-180h160v-160H180v160Zm440 0h160v-160H620v160Z\"/>\n",
              "  </svg>\n",
              "    </button>\n",
              "\n",
              "  <style>\n",
              "    .colab-df-container {\n",
              "      display:flex;\n",
              "      gap: 12px;\n",
              "    }\n",
              "\n",
              "    .colab-df-convert {\n",
              "      background-color: #E8F0FE;\n",
              "      border: none;\n",
              "      border-radius: 50%;\n",
              "      cursor: pointer;\n",
              "      display: none;\n",
              "      fill: #1967D2;\n",
              "      height: 32px;\n",
              "      padding: 0 0 0 0;\n",
              "      width: 32px;\n",
              "    }\n",
              "\n",
              "    .colab-df-convert:hover {\n",
              "      background-color: #E2EBFA;\n",
              "      box-shadow: 0px 1px 2px rgba(60, 64, 67, 0.3), 0px 1px 3px 1px rgba(60, 64, 67, 0.15);\n",
              "      fill: #174EA6;\n",
              "    }\n",
              "\n",
              "    .colab-df-buttons div {\n",
              "      margin-bottom: 4px;\n",
              "    }\n",
              "\n",
              "    [theme=dark] .colab-df-convert {\n",
              "      background-color: #3B4455;\n",
              "      fill: #D2E3FC;\n",
              "    }\n",
              "\n",
              "    [theme=dark] .colab-df-convert:hover {\n",
              "      background-color: #434B5C;\n",
              "      box-shadow: 0px 1px 3px 1px rgba(0, 0, 0, 0.15);\n",
              "      filter: drop-shadow(0px 1px 2px rgba(0, 0, 0, 0.3));\n",
              "      fill: #FFFFFF;\n",
              "    }\n",
              "  </style>\n",
              "\n",
              "    <script>\n",
              "      const buttonEl =\n",
              "        document.querySelector('#df-331cbbcc-623e-4acd-aafc-8a97501feb74 button.colab-df-convert');\n",
              "      buttonEl.style.display =\n",
              "        google.colab.kernel.accessAllowed ? 'block' : 'none';\n",
              "\n",
              "      async function convertToInteractive(key) {\n",
              "        const element = document.querySelector('#df-331cbbcc-623e-4acd-aafc-8a97501feb74');\n",
              "        const dataTable =\n",
              "          await google.colab.kernel.invokeFunction('convertToInteractive',\n",
              "                                                    [key], {});\n",
              "        if (!dataTable) return;\n",
              "\n",
              "        const docLinkHtml = 'Like what you see? Visit the ' +\n",
              "          '<a target=\"_blank\" href=https://colab.research.google.com/notebooks/data_table.ipynb>data table notebook</a>'\n",
              "          + ' to learn more about interactive tables.';\n",
              "        element.innerHTML = '';\n",
              "        dataTable['output_type'] = 'display_data';\n",
              "        await google.colab.output.renderOutput(dataTable, element);\n",
              "        const docLink = document.createElement('div');\n",
              "        docLink.innerHTML = docLinkHtml;\n",
              "        element.appendChild(docLink);\n",
              "      }\n",
              "    </script>\n",
              "  </div>\n",
              "\n",
              "\n",
              "<div id=\"df-ab71b6ad-5c80-4d30-bc9f-6f11bd8bf6fd\">\n",
              "  <button class=\"colab-df-quickchart\" onclick=\"quickchart('df-ab71b6ad-5c80-4d30-bc9f-6f11bd8bf6fd')\"\n",
              "            title=\"Suggest charts\"\n",
              "            style=\"display:none;\">\n",
              "\n",
              "<svg xmlns=\"http://www.w3.org/2000/svg\" height=\"24px\"viewBox=\"0 0 24 24\"\n",
              "     width=\"24px\">\n",
              "    <g>\n",
              "        <path d=\"M19 3H5c-1.1 0-2 .9-2 2v14c0 1.1.9 2 2 2h14c1.1 0 2-.9 2-2V5c0-1.1-.9-2-2-2zM9 17H7v-7h2v7zm4 0h-2V7h2v10zm4 0h-2v-4h2v4z\"/>\n",
              "    </g>\n",
              "</svg>\n",
              "  </button>\n",
              "\n",
              "<style>\n",
              "  .colab-df-quickchart {\n",
              "      --bg-color: #E8F0FE;\n",
              "      --fill-color: #1967D2;\n",
              "      --hover-bg-color: #E2EBFA;\n",
              "      --hover-fill-color: #174EA6;\n",
              "      --disabled-fill-color: #AAA;\n",
              "      --disabled-bg-color: #DDD;\n",
              "  }\n",
              "\n",
              "  [theme=dark] .colab-df-quickchart {\n",
              "      --bg-color: #3B4455;\n",
              "      --fill-color: #D2E3FC;\n",
              "      --hover-bg-color: #434B5C;\n",
              "      --hover-fill-color: #FFFFFF;\n",
              "      --disabled-bg-color: #3B4455;\n",
              "      --disabled-fill-color: #666;\n",
              "  }\n",
              "\n",
              "  .colab-df-quickchart {\n",
              "    background-color: var(--bg-color);\n",
              "    border: none;\n",
              "    border-radius: 50%;\n",
              "    cursor: pointer;\n",
              "    display: none;\n",
              "    fill: var(--fill-color);\n",
              "    height: 32px;\n",
              "    padding: 0;\n",
              "    width: 32px;\n",
              "  }\n",
              "\n",
              "  .colab-df-quickchart:hover {\n",
              "    background-color: var(--hover-bg-color);\n",
              "    box-shadow: 0 1px 2px rgba(60, 64, 67, 0.3), 0 1px 3px 1px rgba(60, 64, 67, 0.15);\n",
              "    fill: var(--button-hover-fill-color);\n",
              "  }\n",
              "\n",
              "  .colab-df-quickchart-complete:disabled,\n",
              "  .colab-df-quickchart-complete:disabled:hover {\n",
              "    background-color: var(--disabled-bg-color);\n",
              "    fill: var(--disabled-fill-color);\n",
              "    box-shadow: none;\n",
              "  }\n",
              "\n",
              "  .colab-df-spinner {\n",
              "    border: 2px solid var(--fill-color);\n",
              "    border-color: transparent;\n",
              "    border-bottom-color: var(--fill-color);\n",
              "    animation:\n",
              "      spin 1s steps(1) infinite;\n",
              "  }\n",
              "\n",
              "  @keyframes spin {\n",
              "    0% {\n",
              "      border-color: transparent;\n",
              "      border-bottom-color: var(--fill-color);\n",
              "      border-left-color: var(--fill-color);\n",
              "    }\n",
              "    20% {\n",
              "      border-color: transparent;\n",
              "      border-left-color: var(--fill-color);\n",
              "      border-top-color: var(--fill-color);\n",
              "    }\n",
              "    30% {\n",
              "      border-color: transparent;\n",
              "      border-left-color: var(--fill-color);\n",
              "      border-top-color: var(--fill-color);\n",
              "      border-right-color: var(--fill-color);\n",
              "    }\n",
              "    40% {\n",
              "      border-color: transparent;\n",
              "      border-right-color: var(--fill-color);\n",
              "      border-top-color: var(--fill-color);\n",
              "    }\n",
              "    60% {\n",
              "      border-color: transparent;\n",
              "      border-right-color: var(--fill-color);\n",
              "    }\n",
              "    80% {\n",
              "      border-color: transparent;\n",
              "      border-right-color: var(--fill-color);\n",
              "      border-bottom-color: var(--fill-color);\n",
              "    }\n",
              "    90% {\n",
              "      border-color: transparent;\n",
              "      border-bottom-color: var(--fill-color);\n",
              "    }\n",
              "  }\n",
              "</style>\n",
              "\n",
              "  <script>\n",
              "    async function quickchart(key) {\n",
              "      const quickchartButtonEl =\n",
              "        document.querySelector('#' + key + ' button');\n",
              "      quickchartButtonEl.disabled = true;  // To prevent multiple clicks.\n",
              "      quickchartButtonEl.classList.add('colab-df-spinner');\n",
              "      try {\n",
              "        const charts = await google.colab.kernel.invokeFunction(\n",
              "            'suggestCharts', [key], {});\n",
              "      } catch (error) {\n",
              "        console.error('Error during call to suggestCharts:', error);\n",
              "      }\n",
              "      quickchartButtonEl.classList.remove('colab-df-spinner');\n",
              "      quickchartButtonEl.classList.add('colab-df-quickchart-complete');\n",
              "    }\n",
              "    (() => {\n",
              "      let quickchartButtonEl =\n",
              "        document.querySelector('#df-ab71b6ad-5c80-4d30-bc9f-6f11bd8bf6fd button');\n",
              "      quickchartButtonEl.style.display =\n",
              "        google.colab.kernel.accessAllowed ? 'block' : 'none';\n",
              "    })();\n",
              "  </script>\n",
              "</div>\n",
              "    </div>\n",
              "  </div>\n"
            ],
            "application/vnd.google.colaboratory.intrinsic+json": {
              "type": "dataframe",
              "variable_name": "data_exp",
              "summary": "{\n  \"name\": \"data_exp\",\n  \"rows\": 891,\n  \"fields\": [\n    {\n      \"column\": \"PassengerId\",\n      \"properties\": {\n        \"dtype\": \"number\",\n        \"std\": 257,\n        \"min\": 1,\n        \"max\": 891,\n        \"num_unique_values\": 891,\n        \"samples\": [\n          710,\n          440,\n          841\n        ],\n        \"semantic_type\": \"\",\n        \"description\": \"\"\n      }\n    },\n    {\n      \"column\": \"Survived\",\n      \"properties\": {\n        \"dtype\": \"number\",\n        \"std\": 0,\n        \"min\": 0,\n        \"max\": 1,\n        \"num_unique_values\": 2,\n        \"samples\": [\n          1,\n          0\n        ],\n        \"semantic_type\": \"\",\n        \"description\": \"\"\n      }\n    },\n    {\n      \"column\": \"SibSp\",\n      \"properties\": {\n        \"dtype\": \"number\",\n        \"std\": 1,\n        \"min\": 0,\n        \"max\": 8,\n        \"num_unique_values\": 7,\n        \"samples\": [\n          1,\n          0\n        ],\n        \"semantic_type\": \"\",\n        \"description\": \"\"\n      }\n    },\n    {\n      \"column\": \"Parch\",\n      \"properties\": {\n        \"dtype\": \"number\",\n        \"std\": 0,\n        \"min\": 0,\n        \"max\": 6,\n        \"num_unique_values\": 7,\n        \"samples\": [\n          0,\n          1\n        ],\n        \"semantic_type\": \"\",\n        \"description\": \"\"\n      }\n    },\n    {\n      \"column\": \"Fare\",\n      \"properties\": {\n        \"dtype\": \"number\",\n        \"std\": 49.6934285971809,\n        \"min\": 0.0,\n        \"max\": 512.3292,\n        \"num_unique_values\": 248,\n        \"samples\": [\n          11.2417,\n          51.8625\n        ],\n        \"semantic_type\": \"\",\n        \"description\": \"\"\n      }\n    },\n    {\n      \"column\": \"Embarked_C\",\n      \"properties\": {\n        \"dtype\": \"number\",\n        \"std\": 0,\n        \"min\": 0,\n        \"max\": 1,\n        \"num_unique_values\": 2,\n        \"samples\": [\n          1,\n          0\n        ],\n        \"semantic_type\": \"\",\n        \"description\": \"\"\n      }\n    },\n    {\n      \"column\": \"Embarked_Q\",\n      \"properties\": {\n        \"dtype\": \"number\",\n        \"std\": 0,\n        \"min\": 0,\n        \"max\": 1,\n        \"num_unique_values\": 2,\n        \"samples\": [\n          1,\n          0\n        ],\n        \"semantic_type\": \"\",\n        \"description\": \"\"\n      }\n    }\n  ]\n}"
            }
          },
          "metadata": {},
          "execution_count": 268
        }
      ]
    },
    {
      "cell_type": "code",
      "source": [
        "X = data_exp.drop(\"Survived\", axis= 1)"
      ],
      "metadata": {
        "id": "bIQaAk71-h4Z"
      },
      "execution_count": 269,
      "outputs": []
    },
    {
      "cell_type": "code",
      "source": [
        "gaus_nb.fit(X, y)\n",
        "y_pred_gaus = gaus_nb.predict(X)\n",
        "print(confusion_matrix(y, y_pred_gaus))\n",
        "print('Accuracy= ', accuracy_score(y, y_pred_gaus))\n",
        "print('F1_score= ', f1_score(y, y_pred_gaus))"
      ],
      "metadata": {
        "colab": {
          "base_uri": "https://localhost:8080/"
        },
        "id": "JlIvt8Du-elV",
        "outputId": "5af59797-539d-41a4-e2fd-2387f8a592d3"
      },
      "execution_count": 270,
      "outputs": [
        {
          "output_type": "stream",
          "name": "stdout",
          "text": [
            "[[461  88]\n",
            " [215 127]]\n",
            "Accuracy=  0.6599326599326599\n",
            "F1_score=  0.45601436265709155\n"
          ]
        }
      ]
    },
    {
      "cell_type": "markdown",
      "source": [
        "Точность модели стала хуже после удаления признаков, не соответствующих экспоненциальному распределению. Попробуем наоборот, оставить все, кроме тех, что имеют экспоненциальное распределение."
      ],
      "metadata": {
        "id": "Mh6hhPFB-_xT"
      }
    },
    {
      "cell_type": "code",
      "source": [
        "data_nonexp = data.drop([\"Embarked_S\", \"Embarked_Q\", \"Embarked_C\", \"Fare\", \"Parch\", \"SibSp\"], axis= 1)\n",
        "data_nonexp.head()"
      ],
      "metadata": {
        "colab": {
          "base_uri": "https://localhost:8080/",
          "height": 238
        },
        "id": "bDS_Epqe_N90",
        "outputId": "a13b6631-2b7a-441f-ae97-3882be18977f"
      },
      "execution_count": 271,
      "outputs": [
        {
          "output_type": "execute_result",
          "data": {
            "text/plain": [
              "             Survived  Pclass  Sex   Age\n",
              "PassengerId                             \n",
              "1                   0       3    0  22.0\n",
              "2                   1       1    1  38.0\n",
              "3                   1       3    1  26.0\n",
              "4                   1       1    1  35.0\n",
              "5                   0       3    0  35.0"
            ],
            "text/html": [
              "\n",
              "  <div id=\"df-d7026f05-2a1b-43ce-9a93-6d887a734d8e\" class=\"colab-df-container\">\n",
              "    <div>\n",
              "<style scoped>\n",
              "    .dataframe tbody tr th:only-of-type {\n",
              "        vertical-align: middle;\n",
              "    }\n",
              "\n",
              "    .dataframe tbody tr th {\n",
              "        vertical-align: top;\n",
              "    }\n",
              "\n",
              "    .dataframe thead th {\n",
              "        text-align: right;\n",
              "    }\n",
              "</style>\n",
              "<table border=\"1\" class=\"dataframe\">\n",
              "  <thead>\n",
              "    <tr style=\"text-align: right;\">\n",
              "      <th></th>\n",
              "      <th>Survived</th>\n",
              "      <th>Pclass</th>\n",
              "      <th>Sex</th>\n",
              "      <th>Age</th>\n",
              "    </tr>\n",
              "    <tr>\n",
              "      <th>PassengerId</th>\n",
              "      <th></th>\n",
              "      <th></th>\n",
              "      <th></th>\n",
              "      <th></th>\n",
              "    </tr>\n",
              "  </thead>\n",
              "  <tbody>\n",
              "    <tr>\n",
              "      <th>1</th>\n",
              "      <td>0</td>\n",
              "      <td>3</td>\n",
              "      <td>0</td>\n",
              "      <td>22.0</td>\n",
              "    </tr>\n",
              "    <tr>\n",
              "      <th>2</th>\n",
              "      <td>1</td>\n",
              "      <td>1</td>\n",
              "      <td>1</td>\n",
              "      <td>38.0</td>\n",
              "    </tr>\n",
              "    <tr>\n",
              "      <th>3</th>\n",
              "      <td>1</td>\n",
              "      <td>3</td>\n",
              "      <td>1</td>\n",
              "      <td>26.0</td>\n",
              "    </tr>\n",
              "    <tr>\n",
              "      <th>4</th>\n",
              "      <td>1</td>\n",
              "      <td>1</td>\n",
              "      <td>1</td>\n",
              "      <td>35.0</td>\n",
              "    </tr>\n",
              "    <tr>\n",
              "      <th>5</th>\n",
              "      <td>0</td>\n",
              "      <td>3</td>\n",
              "      <td>0</td>\n",
              "      <td>35.0</td>\n",
              "    </tr>\n",
              "  </tbody>\n",
              "</table>\n",
              "</div>\n",
              "    <div class=\"colab-df-buttons\">\n",
              "\n",
              "  <div class=\"colab-df-container\">\n",
              "    <button class=\"colab-df-convert\" onclick=\"convertToInteractive('df-d7026f05-2a1b-43ce-9a93-6d887a734d8e')\"\n",
              "            title=\"Convert this dataframe to an interactive table.\"\n",
              "            style=\"display:none;\">\n",
              "\n",
              "  <svg xmlns=\"http://www.w3.org/2000/svg\" height=\"24px\" viewBox=\"0 -960 960 960\">\n",
              "    <path d=\"M120-120v-720h720v720H120Zm60-500h600v-160H180v160Zm220 220h160v-160H400v160Zm0 220h160v-160H400v160ZM180-400h160v-160H180v160Zm440 0h160v-160H620v160ZM180-180h160v-160H180v160Zm440 0h160v-160H620v160Z\"/>\n",
              "  </svg>\n",
              "    </button>\n",
              "\n",
              "  <style>\n",
              "    .colab-df-container {\n",
              "      display:flex;\n",
              "      gap: 12px;\n",
              "    }\n",
              "\n",
              "    .colab-df-convert {\n",
              "      background-color: #E8F0FE;\n",
              "      border: none;\n",
              "      border-radius: 50%;\n",
              "      cursor: pointer;\n",
              "      display: none;\n",
              "      fill: #1967D2;\n",
              "      height: 32px;\n",
              "      padding: 0 0 0 0;\n",
              "      width: 32px;\n",
              "    }\n",
              "\n",
              "    .colab-df-convert:hover {\n",
              "      background-color: #E2EBFA;\n",
              "      box-shadow: 0px 1px 2px rgba(60, 64, 67, 0.3), 0px 1px 3px 1px rgba(60, 64, 67, 0.15);\n",
              "      fill: #174EA6;\n",
              "    }\n",
              "\n",
              "    .colab-df-buttons div {\n",
              "      margin-bottom: 4px;\n",
              "    }\n",
              "\n",
              "    [theme=dark] .colab-df-convert {\n",
              "      background-color: #3B4455;\n",
              "      fill: #D2E3FC;\n",
              "    }\n",
              "\n",
              "    [theme=dark] .colab-df-convert:hover {\n",
              "      background-color: #434B5C;\n",
              "      box-shadow: 0px 1px 3px 1px rgba(0, 0, 0, 0.15);\n",
              "      filter: drop-shadow(0px 1px 2px rgba(0, 0, 0, 0.3));\n",
              "      fill: #FFFFFF;\n",
              "    }\n",
              "  </style>\n",
              "\n",
              "    <script>\n",
              "      const buttonEl =\n",
              "        document.querySelector('#df-d7026f05-2a1b-43ce-9a93-6d887a734d8e button.colab-df-convert');\n",
              "      buttonEl.style.display =\n",
              "        google.colab.kernel.accessAllowed ? 'block' : 'none';\n",
              "\n",
              "      async function convertToInteractive(key) {\n",
              "        const element = document.querySelector('#df-d7026f05-2a1b-43ce-9a93-6d887a734d8e');\n",
              "        const dataTable =\n",
              "          await google.colab.kernel.invokeFunction('convertToInteractive',\n",
              "                                                    [key], {});\n",
              "        if (!dataTable) return;\n",
              "\n",
              "        const docLinkHtml = 'Like what you see? Visit the ' +\n",
              "          '<a target=\"_blank\" href=https://colab.research.google.com/notebooks/data_table.ipynb>data table notebook</a>'\n",
              "          + ' to learn more about interactive tables.';\n",
              "        element.innerHTML = '';\n",
              "        dataTable['output_type'] = 'display_data';\n",
              "        await google.colab.output.renderOutput(dataTable, element);\n",
              "        const docLink = document.createElement('div');\n",
              "        docLink.innerHTML = docLinkHtml;\n",
              "        element.appendChild(docLink);\n",
              "      }\n",
              "    </script>\n",
              "  </div>\n",
              "\n",
              "\n",
              "<div id=\"df-7b80eb47-27d2-4654-968e-4131f5762bcd\">\n",
              "  <button class=\"colab-df-quickchart\" onclick=\"quickchart('df-7b80eb47-27d2-4654-968e-4131f5762bcd')\"\n",
              "            title=\"Suggest charts\"\n",
              "            style=\"display:none;\">\n",
              "\n",
              "<svg xmlns=\"http://www.w3.org/2000/svg\" height=\"24px\"viewBox=\"0 0 24 24\"\n",
              "     width=\"24px\">\n",
              "    <g>\n",
              "        <path d=\"M19 3H5c-1.1 0-2 .9-2 2v14c0 1.1.9 2 2 2h14c1.1 0 2-.9 2-2V5c0-1.1-.9-2-2-2zM9 17H7v-7h2v7zm4 0h-2V7h2v10zm4 0h-2v-4h2v4z\"/>\n",
              "    </g>\n",
              "</svg>\n",
              "  </button>\n",
              "\n",
              "<style>\n",
              "  .colab-df-quickchart {\n",
              "      --bg-color: #E8F0FE;\n",
              "      --fill-color: #1967D2;\n",
              "      --hover-bg-color: #E2EBFA;\n",
              "      --hover-fill-color: #174EA6;\n",
              "      --disabled-fill-color: #AAA;\n",
              "      --disabled-bg-color: #DDD;\n",
              "  }\n",
              "\n",
              "  [theme=dark] .colab-df-quickchart {\n",
              "      --bg-color: #3B4455;\n",
              "      --fill-color: #D2E3FC;\n",
              "      --hover-bg-color: #434B5C;\n",
              "      --hover-fill-color: #FFFFFF;\n",
              "      --disabled-bg-color: #3B4455;\n",
              "      --disabled-fill-color: #666;\n",
              "  }\n",
              "\n",
              "  .colab-df-quickchart {\n",
              "    background-color: var(--bg-color);\n",
              "    border: none;\n",
              "    border-radius: 50%;\n",
              "    cursor: pointer;\n",
              "    display: none;\n",
              "    fill: var(--fill-color);\n",
              "    height: 32px;\n",
              "    padding: 0;\n",
              "    width: 32px;\n",
              "  }\n",
              "\n",
              "  .colab-df-quickchart:hover {\n",
              "    background-color: var(--hover-bg-color);\n",
              "    box-shadow: 0 1px 2px rgba(60, 64, 67, 0.3), 0 1px 3px 1px rgba(60, 64, 67, 0.15);\n",
              "    fill: var(--button-hover-fill-color);\n",
              "  }\n",
              "\n",
              "  .colab-df-quickchart-complete:disabled,\n",
              "  .colab-df-quickchart-complete:disabled:hover {\n",
              "    background-color: var(--disabled-bg-color);\n",
              "    fill: var(--disabled-fill-color);\n",
              "    box-shadow: none;\n",
              "  }\n",
              "\n",
              "  .colab-df-spinner {\n",
              "    border: 2px solid var(--fill-color);\n",
              "    border-color: transparent;\n",
              "    border-bottom-color: var(--fill-color);\n",
              "    animation:\n",
              "      spin 1s steps(1) infinite;\n",
              "  }\n",
              "\n",
              "  @keyframes spin {\n",
              "    0% {\n",
              "      border-color: transparent;\n",
              "      border-bottom-color: var(--fill-color);\n",
              "      border-left-color: var(--fill-color);\n",
              "    }\n",
              "    20% {\n",
              "      border-color: transparent;\n",
              "      border-left-color: var(--fill-color);\n",
              "      border-top-color: var(--fill-color);\n",
              "    }\n",
              "    30% {\n",
              "      border-color: transparent;\n",
              "      border-left-color: var(--fill-color);\n",
              "      border-top-color: var(--fill-color);\n",
              "      border-right-color: var(--fill-color);\n",
              "    }\n",
              "    40% {\n",
              "      border-color: transparent;\n",
              "      border-right-color: var(--fill-color);\n",
              "      border-top-color: var(--fill-color);\n",
              "    }\n",
              "    60% {\n",
              "      border-color: transparent;\n",
              "      border-right-color: var(--fill-color);\n",
              "    }\n",
              "    80% {\n",
              "      border-color: transparent;\n",
              "      border-right-color: var(--fill-color);\n",
              "      border-bottom-color: var(--fill-color);\n",
              "    }\n",
              "    90% {\n",
              "      border-color: transparent;\n",
              "      border-bottom-color: var(--fill-color);\n",
              "    }\n",
              "  }\n",
              "</style>\n",
              "\n",
              "  <script>\n",
              "    async function quickchart(key) {\n",
              "      const quickchartButtonEl =\n",
              "        document.querySelector('#' + key + ' button');\n",
              "      quickchartButtonEl.disabled = true;  // To prevent multiple clicks.\n",
              "      quickchartButtonEl.classList.add('colab-df-spinner');\n",
              "      try {\n",
              "        const charts = await google.colab.kernel.invokeFunction(\n",
              "            'suggestCharts', [key], {});\n",
              "      } catch (error) {\n",
              "        console.error('Error during call to suggestCharts:', error);\n",
              "      }\n",
              "      quickchartButtonEl.classList.remove('colab-df-spinner');\n",
              "      quickchartButtonEl.classList.add('colab-df-quickchart-complete');\n",
              "    }\n",
              "    (() => {\n",
              "      let quickchartButtonEl =\n",
              "        document.querySelector('#df-7b80eb47-27d2-4654-968e-4131f5762bcd button');\n",
              "      quickchartButtonEl.style.display =\n",
              "        google.colab.kernel.accessAllowed ? 'block' : 'none';\n",
              "    })();\n",
              "  </script>\n",
              "</div>\n",
              "    </div>\n",
              "  </div>\n"
            ],
            "application/vnd.google.colaboratory.intrinsic+json": {
              "type": "dataframe",
              "variable_name": "data_nonexp",
              "summary": "{\n  \"name\": \"data_nonexp\",\n  \"rows\": 891,\n  \"fields\": [\n    {\n      \"column\": \"PassengerId\",\n      \"properties\": {\n        \"dtype\": \"number\",\n        \"std\": 257,\n        \"min\": 1,\n        \"max\": 891,\n        \"num_unique_values\": 891,\n        \"samples\": [\n          710,\n          440,\n          841\n        ],\n        \"semantic_type\": \"\",\n        \"description\": \"\"\n      }\n    },\n    {\n      \"column\": \"Survived\",\n      \"properties\": {\n        \"dtype\": \"number\",\n        \"std\": 0,\n        \"min\": 0,\n        \"max\": 1,\n        \"num_unique_values\": 2,\n        \"samples\": [\n          1,\n          0\n        ],\n        \"semantic_type\": \"\",\n        \"description\": \"\"\n      }\n    },\n    {\n      \"column\": \"Pclass\",\n      \"properties\": {\n        \"dtype\": \"number\",\n        \"std\": 0,\n        \"min\": 1,\n        \"max\": 3,\n        \"num_unique_values\": 3,\n        \"samples\": [\n          3,\n          1\n        ],\n        \"semantic_type\": \"\",\n        \"description\": \"\"\n      }\n    },\n    {\n      \"column\": \"Sex\",\n      \"properties\": {\n        \"dtype\": \"number\",\n        \"std\": 0,\n        \"min\": 0,\n        \"max\": 1,\n        \"num_unique_values\": 2,\n        \"samples\": [\n          1,\n          0\n        ],\n        \"semantic_type\": \"\",\n        \"description\": \"\"\n      }\n    },\n    {\n      \"column\": \"Age\",\n      \"properties\": {\n        \"dtype\": \"number\",\n        \"std\": 13.005010341761803,\n        \"min\": 0.42,\n        \"max\": 80.0,\n        \"num_unique_values\": 88,\n        \"samples\": [\n          0.75,\n          22.0\n        ],\n        \"semantic_type\": \"\",\n        \"description\": \"\"\n      }\n    }\n  ]\n}"
            }
          },
          "metadata": {},
          "execution_count": 271
        }
      ]
    },
    {
      "cell_type": "code",
      "source": [
        "X = data_nonexp.drop(\"Survived\", axis= 1)"
      ],
      "metadata": {
        "id": "DBLlrZ97_4wS"
      },
      "execution_count": 272,
      "outputs": []
    },
    {
      "cell_type": "code",
      "source": [
        "gaus_nb.fit(X, y)\n",
        "y_pred_gaus = gaus_nb.predict(X)\n",
        "print(confusion_matrix(y, y_pred_gaus))\n",
        "print('Accuracy= ', accuracy_score(y, y_pred_gaus))\n",
        "print('F1_score= ', f1_score(y, y_pred_gaus))"
      ],
      "metadata": {
        "colab": {
          "base_uri": "https://localhost:8080/"
        },
        "id": "7e6_QRyf_7LD",
        "outputId": "e401a98b-28de-429b-fb9b-ee895d8d406d"
      },
      "execution_count": 273,
      "outputs": [
        {
          "output_type": "stream",
          "name": "stdout",
          "text": [
            "[[465  84]\n",
            " [106 236]]\n",
            "Accuracy=  0.7867564534231201\n",
            "F1_score=  0.7129909365558913\n"
          ]
        }
      ]
    },
    {
      "cell_type": "markdown",
      "source": [
        "Теперь точность модели очень близка к изначальной, когда использовались все данные. Попробуем другие модели наивного Байеса из первого задания."
      ],
      "metadata": {
        "id": "XB5jaf9CAEHI"
      }
    },
    {
      "cell_type": "code",
      "source": [
        "X = data.drop(\"Survived\", axis= 1).values"
      ],
      "metadata": {
        "id": "zIgfDcDgAcBX"
      },
      "execution_count": 274,
      "outputs": []
    },
    {
      "cell_type": "code",
      "source": [
        "mult_nb = MultinomialNB().fit(X, y)\n",
        "bern_nb = BernoulliNB().fit(X, y)\n",
        "comp_nb = ComplementNB().fit(X, y)\n",
        "cat_nb = CategoricalNB().fit(X, y)"
      ],
      "metadata": {
        "id": "Oo--_o0pAVCb"
      },
      "execution_count": 275,
      "outputs": []
    },
    {
      "cell_type": "code",
      "source": [
        "y_pred_mult = mult_nb.predict(X)\n",
        "print(confusion_matrix(y, y_pred_mult))\n",
        "print('Accuracy= ', accuracy_score(y, y_pred_mult))\n",
        "print('F1_score= ', f1_score(y, y_pred_mult))"
      ],
      "metadata": {
        "colab": {
          "base_uri": "https://localhost:8080/"
        },
        "id": "X5XqaPN9AWAA",
        "outputId": "c534c473-90df-4c7b-92fd-76284ccd9a91"
      },
      "execution_count": 276,
      "outputs": [
        {
          "output_type": "stream",
          "name": "stdout",
          "text": [
            "[[455  94]\n",
            " [183 159]]\n",
            "Accuracy=  0.6891133557800224\n",
            "F1_score=  0.534453781512605\n"
          ]
        }
      ]
    },
    {
      "cell_type": "code",
      "source": [
        "y_pred_bern = bern_nb.predict(X)\n",
        "print(confusion_matrix(y, y_pred_bern))\n",
        "print('Accuracy= ', accuracy_score(y, y_pred_bern))\n",
        "print('F1_score= ', f1_score(y, y_pred_bern))"
      ],
      "metadata": {
        "colab": {
          "base_uri": "https://localhost:8080/"
        },
        "id": "OsdRTvJMAWqK",
        "outputId": "ea129357-9a4d-4c21-ae28-024dfbaa74e8"
      },
      "execution_count": 277,
      "outputs": [
        {
          "output_type": "stream",
          "name": "stdout",
          "text": [
            "[[457  92]\n",
            " [100 242]]\n",
            "Accuracy=  0.7845117845117845\n",
            "F1_score=  0.7159763313609468\n"
          ]
        }
      ]
    },
    {
      "cell_type": "code",
      "source": [
        "y_pred_comp = comp_nb.predict(X)\n",
        "print(confusion_matrix(y, y_pred_comp))\n",
        "print('Accuracy= ', accuracy_score(y, y_pred_comp))\n",
        "print('F1_score= ', f1_score(y, y_pred_comp))"
      ],
      "metadata": {
        "colab": {
          "base_uri": "https://localhost:8080/"
        },
        "id": "UiGyiEQ2AXSY",
        "outputId": "ba413ab7-3cbf-4c39-ddb9-7fc580098874"
      },
      "execution_count": 278,
      "outputs": [
        {
          "output_type": "stream",
          "name": "stdout",
          "text": [
            "[[454  95]\n",
            " [178 164]]\n",
            "Accuracy=  0.6936026936026936\n",
            "F1_score=  0.5457570715474209\n"
          ]
        }
      ]
    },
    {
      "cell_type": "code",
      "source": [
        "y_pred_cat = cat_nb.predict(X)\n",
        "print(confusion_matrix(y, y_pred_cat))\n",
        "print('Accuracy= ', accuracy_score(y, y_pred_cat))\n",
        "print('F1_score= ', f1_score(y, y_pred_cat))"
      ],
      "metadata": {
        "colab": {
          "base_uri": "https://localhost:8080/"
        },
        "id": "G28TGvnQAXzB",
        "outputId": "2c76e544-077f-41e9-f9db-adaf0b075693"
      },
      "execution_count": 279,
      "outputs": [
        {
          "output_type": "stream",
          "name": "stdout",
          "text": [
            "[[488  61]\n",
            " [104 238]]\n",
            "Accuracy=  0.8148148148148148\n",
            "F1_score=  0.7425897035881435\n"
          ]
        }
      ]
    },
    {
      "cell_type": "markdown",
      "source": [
        "Лучше всех, в данном датасете, себя показал CategoricalNB."
      ],
      "metadata": {
        "id": "fJY6c0rbAuS9"
      }
    },
    {
      "cell_type": "markdown",
      "source": [
        "3. Загрузите набор данных о Титанике с сайта Kaggle. Обратите внимание на обилие категориальных переменных. Примените на нем наивный байесовский классификатор."
      ],
      "metadata": {
        "id": "S3hlS335A1WV"
      }
    },
    {
      "cell_type": "code",
      "source": [
        "data = pd.read_csv(\"train.csv\", index_col= 0)\n",
        "\n",
        "X = data.drop([\"Survived\", \"Name\", \"Ticket\", \"Cabin\", \"Embarked\"], axis= 1)\n",
        "X.Sex = X.Sex.apply(lambda x: 0 if x == \"male\" else 1)\n",
        "X.fillna(0, inplace= True)\n",
        "X = X.values\n",
        "y = data[\"Survived\"].values"
      ],
      "metadata": {
        "id": "jMC2gvYaA3Dm"
      },
      "execution_count": 280,
      "outputs": []
    },
    {
      "cell_type": "code",
      "source": [
        "gaus_nb = GaussianNB().fit(X, y)\n",
        "mult_nb = MultinomialNB().fit(X, y)\n",
        "bern_nb = BernoulliNB().fit(X, y)\n",
        "comp_nb = ComplementNB().fit(X, y)\n",
        "cat_nb = CategoricalNB().fit(X, y)"
      ],
      "metadata": {
        "id": "P4TmmYA1DG2L"
      },
      "execution_count": 281,
      "outputs": []
    },
    {
      "cell_type": "code",
      "source": [
        "y_pred_gaus = gaus_nb.predict(X)\n",
        "print(confusion_matrix(y, y_pred_gaus))\n",
        "print('Accuracy= ', accuracy_score(y, y_pred_gaus))\n",
        "print('F1_score= ', f1_score(y, y_pred_gaus))"
      ],
      "metadata": {
        "colab": {
          "base_uri": "https://localhost:8080/"
        },
        "id": "-XXT57ChF02s",
        "outputId": "547a3e3a-5a0f-4c1d-d086-7c22d5b2e095"
      },
      "execution_count": 282,
      "outputs": [
        {
          "output_type": "stream",
          "name": "stdout",
          "text": [
            "[[465  84]\n",
            " [103 239]]\n",
            "Accuracy=  0.7901234567901234\n",
            "F1_score=  0.718796992481203\n"
          ]
        }
      ]
    },
    {
      "cell_type": "code",
      "source": [
        "y_pred_mult = mult_nb.predict(X)\n",
        "print(confusion_matrix(y, y_pred_mult))\n",
        "print('Accuracy= ', accuracy_score(y, y_pred_mult))\n",
        "print('F1_score= ', f1_score(y, y_pred_mult))"
      ],
      "metadata": {
        "colab": {
          "base_uri": "https://localhost:8080/"
        },
        "id": "oFM4wTO3F4aE",
        "outputId": "23608033-03d9-40a4-b93e-0d781835cb33"
      },
      "execution_count": 283,
      "outputs": [
        {
          "output_type": "stream",
          "name": "stdout",
          "text": [
            "[[380 169]\n",
            " [157 185]]\n",
            "Accuracy=  0.6341189674523008\n",
            "F1_score=  0.5316091954022989\n"
          ]
        }
      ]
    },
    {
      "cell_type": "code",
      "source": [
        "y_pred_bern = bern_nb.predict(X)\n",
        "print(confusion_matrix(y, y_pred_bern))\n",
        "print('Accuracy= ', accuracy_score(y, y_pred_bern))\n",
        "print('F1_score= ', f1_score(y, y_pred_bern))"
      ],
      "metadata": {
        "colab": {
          "base_uri": "https://localhost:8080/"
        },
        "id": "L3_LA3SRF4kT",
        "outputId": "a41e1449-d3e5-4fe1-8b05-7057c0ec6200"
      },
      "execution_count": 284,
      "outputs": [
        {
          "output_type": "stream",
          "name": "stdout",
          "text": [
            "[[468  81]\n",
            " [109 233]]\n",
            "Accuracy=  0.7867564534231201\n",
            "F1_score=  0.7103658536585367\n"
          ]
        }
      ]
    },
    {
      "cell_type": "code",
      "source": [
        "y_pred_comp = comp_nb.predict(X)\n",
        "print(confusion_matrix(y, y_pred_comp))\n",
        "print('Accuracy= ', accuracy_score(y, y_pred_comp))\n",
        "print('F1_score= ', f1_score(y, y_pred_comp))"
      ],
      "metadata": {
        "colab": {
          "base_uri": "https://localhost:8080/"
        },
        "id": "nAwnlRHZF4tQ",
        "outputId": "382787af-af8b-4313-9196-e0ffc1320c4b"
      },
      "execution_count": 285,
      "outputs": [
        {
          "output_type": "stream",
          "name": "stdout",
          "text": [
            "[[363 186]\n",
            " [152 190]]\n",
            "Accuracy=  0.6206509539842873\n",
            "F1_score=  0.5292479108635098\n"
          ]
        }
      ]
    },
    {
      "cell_type": "code",
      "source": [
        "y_pred_cat = cat_nb.predict(X)\n",
        "print(confusion_matrix(y, y_pred_cat))\n",
        "print('Accuracy= ', accuracy_score(y, y_pred_cat))\n",
        "print('F1_score= ', f1_score(y, y_pred_cat))"
      ],
      "metadata": {
        "colab": {
          "base_uri": "https://localhost:8080/"
        },
        "id": "pSx-m6tDF41X",
        "outputId": "899c4b56-eb17-4bab-f3b6-e68d1fa51a1c"
      },
      "execution_count": 286,
      "outputs": [
        {
          "output_type": "stream",
          "name": "stdout",
          "text": [
            "[[493  56]\n",
            " [106 236]]\n",
            "Accuracy=  0.8181818181818182\n",
            "F1_score=  0.7444794952681387\n"
          ]
        }
      ]
    },
    {
      "cell_type": "markdown",
      "source": [
        "Дополнительные задания"
      ],
      "metadata": {
        "id": "9UcftvdTGZDc"
      }
    },
    {
      "cell_type": "markdown",
      "source": [
        "1. Напишите универсальную функцию рисования произвольного количества гистограмм, которую можно применить к любому датасету."
      ],
      "metadata": {
        "id": "6kmb0JUtGYgB"
      }
    },
    {
      "cell_type": "code",
      "source": [
        "def hist(dataset):\n",
        "  names = dataset.columns\n",
        "  dataset = dataset.values\n",
        "\n",
        "  f = plt.figure(figsize=(15, 7))\n",
        "\n",
        "  for i in range(dataset.shape[1]):\n",
        "    plt.subplot(6, 5, i + 1)\n",
        "    plt.hist(dataset[:, i])\n",
        "    plt.xlabel(names[i])\n",
        "\n",
        "  f.subplots_adjust(hspace=0.9,wspace=0.3)\n",
        "  plt.suptitle(\"Гистограммы признаков\", fontsize=14)\n",
        "  plt.show()\n",
        "\n",
        "data = pd.read_csv(\"train.csv\", index_col= 0)\n",
        "\n",
        "datah = data.drop([\"Survived\", \"Name\", \"Ticket\", \"Cabin\", \"Embarked\"], axis= 1)\n",
        "datah.Sex = datah.Sex.apply(lambda x: 0 if x == \"male\" else 1)\n",
        "hist(datah)"
      ],
      "metadata": {
        "colab": {
          "base_uri": "https://localhost:8080/",
          "height": 299
        },
        "id": "UGmwk7cQGcMP",
        "outputId": "2c3b0de1-420a-4142-ce04-5194933e0d30"
      },
      "execution_count": 294,
      "outputs": [
        {
          "output_type": "display_data",
          "data": {
            "text/plain": [
              "<Figure size 1500x700 with 6 Axes>"
            ],
            "image/png": "[encoded data removed]"
          },
          "metadata": {}
        }
      ]
    },
    {
      "cell_type": "code",
      "source": [
        "data = pd.DataFrame(datasets.load_breast_cancer().data)\n",
        "hist(data)"
      ],
      "metadata": {
        "colab": {
          "base_uri": "https://localhost:8080/",
          "height": 689
        },
        "id": "mifRBcguImfz",
        "outputId": "46da7658-c14c-429d-a9b4-35ad1baf0f1f"
      },
      "execution_count": 300,
      "outputs": [
        {
          "output_type": "display_data",
          "data": {
            "text/plain": [
              "<Figure size 1500x700 with 30 Axes>"
            ],
            "image/png": "[encoded data removed]"
          },
          "metadata": {}
        }
      ]
    },
    {
      "cell_type": "code",
      "source": [
        "url = \"https://raw.githubusercontent.com/koroteevmv/ML_course/main/ML3.6%20bayes/titanic.csv\"\n",
        "data = pd.read_csv(url, index_col=0)\n",
        "X = data.drop(\"Survived\", axis= 1)\n",
        "hist(X)"
      ],
      "metadata": {
        "colab": {
          "base_uri": "https://localhost:8080/",
          "height": 299
        },
        "id": "K5UYwMOHGnpu",
        "outputId": "f8e61fed-d48d-4ec4-e1fb-bd329d63362d"
      },
      "execution_count": 302,
      "outputs": [
        {
          "output_type": "display_data",
          "data": {
            "text/plain": [
              "<Figure size 1500x700 with 9 Axes>"
            ],
            "image/png": "[encoded data removed]"
          },
          "metadata": {}
        }
      ]
    },
    {
      "cell_type": "markdown",
      "source": [],
      "metadata": {
        "id": "ZeNq0btkJOV7"
      }
    },
    {
      "cell_type": "code",
      "source": [],
      "metadata": {
        "id": "l9_jyGoKJN8G"
      },
      "execution_count": null,
      "outputs": []
    }
  ]
}
