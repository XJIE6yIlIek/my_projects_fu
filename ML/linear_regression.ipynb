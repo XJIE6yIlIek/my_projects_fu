{
  "nbformat": 4,
  "nbformat_minor": 0,
  "metadata": {
    "colab": {
      "provenance": []
    },
    "kernelspec": {
      "name": "python3",
      "display_name": "Python 3"
    },
    "language_info": {
      "name": "python"
    }
  },
  "cells": [
    {
      "cell_type": "code",
      "execution_count": 1,
      "metadata": {
        "id": "uezGFh6NDltp"
      },
      "outputs": [],
      "source": [
        "import numpy as np\n",
        "import pandas as pd\n",
        "import matplotlib.pyplot as plt"
      ]
    },
    {
      "cell_type": "code",
      "source": [
        "x = pd.read_csv('https://raw.githubusercontent.com/koroteevmv/ML_course/main/ML1.1_sgd/data/x.csv')['0']\n",
        "y = pd.read_csv('https://raw.githubusercontent.com/koroteevmv/ML_course/main/ML1.1_sgd/data/y.csv')['0']"
      ],
      "metadata": {
        "id": "3-x0qx10Domj"
      },
      "execution_count": 26,
      "outputs": []
    },
    {
      "cell_type": "code",
      "source": [
        "x.head()"
      ],
      "metadata": {
        "colab": {
          "base_uri": "https://localhost:8080/"
        },
        "id": "K44Y2iQbDzfK",
        "outputId": "37b0f4ae-b7d8-4546-c732-8b8ac4fe4de2"
      },
      "execution_count": 11,
      "outputs": [
        {
          "output_type": "execute_result",
          "data": {
            "text/plain": [
              "0    1.462108\n",
              "1    1.133769\n",
              "2   -2.301539\n",
              "3    1.744812\n",
              "4    0.042214\n",
              "Name: 0, dtype: float64"
            ]
          },
          "metadata": {},
          "execution_count": 11
        }
      ]
    },
    {
      "cell_type": "code",
      "source": [
        "y.head()"
      ],
      "metadata": {
        "colab": {
          "base_uri": "https://localhost:8080/"
        },
        "id": "N6qjV9SOD1Rp",
        "outputId": "5ddda9f0-7129-42ff-fe2f-9fd6fa833212"
      },
      "execution_count": 12,
      "outputs": [
        {
          "output_type": "execute_result",
          "data": {
            "text/plain": [
              "0    101.159902\n",
              "1     78.442913\n",
              "2   -159.238195\n",
              "3    120.719533\n",
              "4      2.920673\n",
              "Name: 0, dtype: float64"
            ]
          },
          "metadata": {},
          "execution_count": 12
        }
      ]
    },
    {
      "cell_type": "code",
      "source": [
        "x.describe()"
      ],
      "metadata": {
        "colab": {
          "base_uri": "https://localhost:8080/"
        },
        "id": "DjoHuvIOGujx",
        "outputId": "ba2b6f00-d0aa-4850-cb08-143dffeb22bc"
      },
      "execution_count": 15,
      "outputs": [
        {
          "output_type": "execute_result",
          "data": {
            "text/plain": [
              "count    20.000000\n",
              "mean     -0.133365\n",
              "std       1.128377\n",
              "min      -2.301539\n",
              "25%      -0.790370\n",
              "50%      -0.285894\n",
              "75%       0.653463\n",
              "max       1.744812\n",
              "Name: 0, dtype: float64"
            ]
          },
          "metadata": {},
          "execution_count": 15
        }
      ]
    },
    {
      "cell_type": "code",
      "source": [
        "y.describe()"
      ],
      "metadata": {
        "colab": {
          "base_uri": "https://localhost:8080/"
        },
        "id": "qeUPP6pgH9ko",
        "outputId": "3b97edf3-96f8-4f08-981d-43dee8f2c2ba"
      },
      "execution_count": 16,
      "outputs": [
        {
          "output_type": "execute_result",
          "data": {
            "text/plain": [
              "count     20.000000\n",
              "mean      -9.227194\n",
              "std       78.069794\n",
              "min     -159.238195\n",
              "25%      -54.683876\n",
              "50%      -19.780337\n",
              "75%       45.211631\n",
              "max      120.719533\n",
              "Name: 0, dtype: float64"
            ]
          },
          "metadata": {},
          "execution_count": 16
        }
      ]
    },
    {
      "cell_type": "code",
      "source": [
        "plt.scatter(x, y)"
      ],
      "metadata": {
        "colab": {
          "base_uri": "https://localhost:8080/",
          "height": 447
        },
        "id": "UVOyJYH-IDjY",
        "outputId": "24b74b94-a7b7-48e7-d47f-b8359c512641"
      },
      "execution_count": 17,
      "outputs": [
        {
          "output_type": "execute_result",
          "data": {
            "text/plain": [
              "<matplotlib.collections.PathCollection at 0x7a8d8f2e3f10>"
            ]
          },
          "metadata": {},
          "execution_count": 17
        },
        {
          "output_type": "display_data",
          "data": {
            "text/plain": [
              "<Figure size 640x480 with 1 Axes>"
            ],
            "image/png": "[encoded data removed]"
          },
          "metadata": {}
        }
      ]
    },
    {
      "cell_type": "code",
      "source": [
        "class Model:\n",
        "  def __init__(self):\n",
        "    self.b0 = 0\n",
        "    self.b1 = 0\n",
        "\n",
        "  def predict(self, x):\n",
        "    return self.b0 + self.b1 * x\n",
        "\n",
        "  def error(self, x, y):\n",
        "    return sum((y - self.predict(x)) ** 2)\n",
        "\n",
        "  def fit(self, x, y):\n",
        "    for _ in range(100):\n",
        "      alpha = 0.01\n",
        "      dj0 = sum(y - self.predict(x))\n",
        "      dj1 = sum((y - self.predict(x)) * x)\n",
        "      self.b0 += alpha * dj0\n",
        "      self.b1 += alpha * dj1"
      ],
      "metadata": {
        "id": "6XeymRUdIWYZ"
      },
      "execution_count": 203,
      "outputs": []
    },
    {
      "cell_type": "code",
      "source": [
        "reg = Model()\n",
        "reg.b1 = 1"
      ],
      "metadata": {
        "id": "xRgSnTAnI1Ga"
      },
      "execution_count": 204,
      "outputs": []
    },
    {
      "cell_type": "code",
      "source": [
        "reg.fit(x, y)"
      ],
      "metadata": {
        "id": "o_jwvekHK992"
      },
      "execution_count": 205,
      "outputs": []
    },
    {
      "cell_type": "code",
      "source": [
        "xx = np.linspace(-2.5, 1.5, 100)\n",
        "plt.plot(xx, reg.predict(xx))\n",
        "plt.scatter(x, y)"
      ],
      "metadata": {
        "colab": {
          "base_uri": "https://localhost:8080/",
          "height": 447
        },
        "id": "34wVWdbNK6XG",
        "outputId": "1e4738eb-5179-4752-e0cc-c350bcbed90a"
      },
      "execution_count": 206,
      "outputs": [
        {
          "output_type": "execute_result",
          "data": {
            "text/plain": [
              "<matplotlib.collections.PathCollection at 0x7a8d8d864670>"
            ]
          },
          "metadata": {},
          "execution_count": 206
        },
        {
          "output_type": "display_data",
          "data": {
            "text/plain": [
              "<Figure size 640x480 with 1 Axes>"
            ],
            "image/png": "[encoded data removed]"
          },
          "metadata": {}
        }
      ]
    },
    {
      "cell_type": "code",
      "source": [
        "reg.b0, reg.b1"
      ],
      "metadata": {
        "colab": {
          "base_uri": "https://localhost:8080/"
        },
        "id": "Cuj6MJAMSiu8",
        "outputId": "a37b8fc8-e821-4e68-bac3-4fee8528d61b"
      },
      "execution_count": 207,
      "outputs": [
        {
          "output_type": "execute_result",
          "data": {
            "text/plain": [
              "(-2.434041511416917e-08, 69.18771138380411)"
            ]
          },
          "metadata": {},
          "execution_count": 207
        }
      ]
    },
    {
      "cell_type": "code",
      "source": [
        "reg.error(x, y)"
      ],
      "metadata": {
        "colab": {
          "base_uri": "https://localhost:8080/"
        },
        "id": "NqkCTbzBUJAm",
        "outputId": "4a6901f1-1309-4608-e709-c6907ba2f5c8"
      },
      "execution_count": 208,
      "outputs": [
        {
          "output_type": "execute_result",
          "data": {
            "text/plain": [
              "1.3492230917662736e-14"
            ]
          },
          "metadata": {},
          "execution_count": 208
        }
      ]
    },
    {
      "cell_type": "code",
      "source": [],
      "metadata": {
        "id": "eSlJAxcJUwjT"
      },
      "execution_count": null,
      "outputs": []
    }
  ]
}
