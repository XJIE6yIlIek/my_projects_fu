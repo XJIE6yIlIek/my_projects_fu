{
 "cells": [
  {
   "cell_type": "code",
   "execution_count": 3,
   "metadata": {},
   "outputs": [],
   "source": [
    "from collections import deque\n",
    "import queue"
   ]
  },
  {
   "cell_type": "markdown",
   "metadata": {
    "id": "04x2ITUaJ7Rh"
   },
   "source": [
    "6) Реализовать простейший динамический массив, поддерживающий добавление элемента в конец массива при помощи метода append(e).\n",
    "\n",
    "Также должны поддерживаться следующие операции: \n",
    "* извлечение элемента по индексу;\n",
    "* устанавка нового значения по индексу;\n",
    "* получение текущей длины массива."
   ]
  },
  {
   "cell_type": "markdown",
   "metadata": {
    "id": "qO6bBuVqJ7Rm"
   },
   "source": [
    "6.1) Добавить реализацию удаления элемента из любого места массива и поддержку корректного вывода массива при помощи функции print."
   ]
  },
  {
   "cell_type": "code",
   "execution_count": null,
   "metadata": {
    "id": "yzdIDr-iLVfp"
   },
   "outputs": [],
   "source": [
    "class DynamicArray:\n",
    "    def __init__(self):\n",
    "        self._data = []\n",
    "        self._size = 0\n",
    "\n",
    "    def __len__(self):\n",
    "        return self._size\n",
    "\n",
    "    def __getitem__(self, index):\n",
    "        if not 0 <= index < self._size:\n",
    "            raise IndexError(\"Index out of range\")\n",
    "        return self._data[index]\n",
    "\n",
    "    def __setitem__(self, index, value):\n",
    "        if not 0 <= index < self._size:\n",
    "            raise IndexError(\"Index out of range\")\n",
    "        self._data[index] = value\n",
    "\n",
    "    def append(self, value):\n",
    "        self._data.append(value)\n",
    "        self._size += 1\n",
    "\n",
    "    def remove(self, value):\n",
    "        for i in range(self._size):\n",
    "            if self._data[i] == value:\n",
    "                for j in range(i, self._size - 1):\n",
    "                    self._data[j] = self._data[j+1]\n",
    "                self._size -= 1\n",
    "                self._data.pop()\n",
    "                return\n",
    "        raise ValueError(\"Value not found in array\")\n",
    "\n",
    "    def insert(self, index, value):\n",
    "        if not 0 <= index <= self._size:\n",
    "            raise IndexError(\"Index out of range\")\n",
    "        self._data.insert(index, value)\n",
    "        self._size += 1\n",
    "\n",
    "    def pop(self, index=-1):\n",
    "        if not 0 <= index < self._size:\n",
    "            raise IndexError(\"Index out of range\")\n",
    "        self._size -= 1\n",
    "        return self._data.pop(index)\n",
    "\n",
    "    def __repr__(self):\n",
    "        return \"[\" + \", \".join(str(self._data[i]) for i in range(self._size)) + \"]\""
   ]
  },
  {
   "cell_type": "markdown",
   "metadata": {
    "id": "c5H-eHzoJ7Rm"
   },
   "source": [
    "7) Реализовать генератор, который возвращает значение поочередно извлекаемое из конца двух очередей (в качестве очереди используется deque из collections). Если очередь из которой извлекается элемент пуста - генератор заканчивает работу."
   ]
  },
  {
   "cell_type": "code",
   "execution_count": 1,
   "metadata": {
    "id": "rZIIz4g0LWxq"
   },
   "outputs": [],
   "source": [
    "def GenFromQ(queue1, queue2):\n",
    "    while queue1 or queue2:\n",
    "        if queue1:\n",
    "            yield queue1.pop()\n",
    "        if queue2:\n",
    "            yield queue2.pop()"
   ]
  },
  {
   "cell_type": "code",
   "execution_count": 4,
   "metadata": {},
   "outputs": [
    {
     "name": "stdout",
     "output_type": "stream",
     "text": [
      "3\n",
      "7\n",
      "2\n",
      "6\n",
      "1\n",
      "5\n",
      "4\n"
     ]
    }
   ],
   "source": [
    "q1 = deque([1, 2, 3])\n",
    "q2 = deque([4, 5, 6, 7])\n",
    "\n",
    "for val in GenFromQ(q1, q2):\n",
    "    print(val)"
   ]
  },
  {
   "cell_type": "markdown",
   "metadata": {
    "id": "BM1gX2YEJ7Rn"
   },
   "source": [
    "8) Реализовать классы с медодом action():\n",
    "\n",
    "а) Класс Pump - в методе action() извлекает очередное значение из генератора и помещает значение в очередь (очередь передается в конструктор).\n",
    "\n",
    "b) Класс MultiAction - при вызове метода action() n раз вызвает метод action() класса, переданного в конструкторе. Число n также определяется в конструкторе.\n",
    "\n",
    "c) Класс MultiPump - в методе action() извлекает очередное значение из генератора и помещает значение в одну из очередей (очереди передается в конструкторе); очереди , в которые помещаются очередные значения, меняются по порядку."
   ]
  },
  {
   "cell_type": "code",
   "execution_count": 5,
   "metadata": {
    "id": "up8fsk-iLX9J"
   },
   "outputs": [],
   "source": [
    "class Pump:\n",
    "    def __init__(self, generator, queue):\n",
    "        self.generator = generator\n",
    "        self.queue = queue\n",
    "    \n",
    "    def action(self):\n",
    "        if len(self.queue) < self.queue.maxlen:\n",
    "            value = next(self.generator)\n",
    "            self.queue.append(value)\n",
    "        else:\n",
    "            print(\"Queue is full.\")\n",
    "            \n",
    "class MultiPump:\n",
    "    def __init__(self, generator, queues):\n",
    "        self.generator = generator\n",
    "        self.queues = queues\n",
    "    \n",
    "    def action(self):\n",
    "        value = next(self.generator)\n",
    "        queue = self.queues.popleft()\n",
    "        queue.add(value)\n",
    "        self.queues.append(queue)\n",
    "            \n",
    "class MultiPump:\n",
    "    def __init__(self, generator, queues):\n",
    "        self.generator = generator\n",
    "        self.queues = queues\n",
    "    \n",
    "    def action(self):\n",
    "        value = next(self.generator)\n",
    "        queue = self.queues.pop(0)\n",
    "        queue.append(value)\n",
    "        self.queues.append(queue)"
   ]
  },
  {
   "cell_type": "markdown",
   "metadata": {},
   "source": [
    "# Pump\n",
    "Класс Pump принимает на вход генератор и очередь. В методе action() класса извлекается очередное значение из генератора и помещается в очередь, если очередь не заполнена.\n",
    "# MultiAction\n",
    "Класс MultiAction принимает на вход класс и число n. В методе action() класса n раз вызывается метод action() переданного класса.\n",
    "# MultiPump\n",
    "Класс MultiPump принимает на вход генератор и список очередей. В методе action() класса извлекается очередное значение из генератора и помещается в очередь, которая находится первой в списке очередей. Затем очереди, в которые помещаются значения, меняются по порядку. Если в списке очередей остается одна очередь, то значения помещаются в нее по кругу."
   ]
  },
  {
   "cell_type": "markdown",
   "metadata": {
    "id": "h33sGN3sJ7Rn"
   },
   "source": [
    "9) При помощи GenFromQ, Pump реализовать систему опработки сообщений.\n",
    "Сообщения создаются генератором сообщений возвращающим случайным образорм одно из сообщений. Сообщения из трех генераторов закачиваются в три очереди при помощи классов Pump, далее при помощи GenFromQ и Pump объединяются в одну очередь и выводятся на экран (можно реализовать при помощи класса с action и вызываемого при помощи MultiPump)."
   ]
  },
  {
   "cell_type": "code",
   "execution_count": null,
   "metadata": {},
   "outputs": [],
   "source": []
  }
 ],
 "metadata": {
  "anaconda-cloud": {},
  "colab": {
   "provenance": []
  },
  "kernelspec": {
   "display_name": "Python 3 (ipykernel)",
   "language": "python",
   "name": "python3"
  },
  "language_info": {
   "codemirror_mode": {
    "name": "ipython",
    "version": 3
   },
   "file_extension": ".py",
   "mimetype": "text/x-python",
   "name": "python",
   "nbconvert_exporter": "python",
   "pygments_lexer": "ipython3",
   "version": "3.10.9"
  }
 },
 "nbformat": 4,
 "nbformat_minor": 1
}
