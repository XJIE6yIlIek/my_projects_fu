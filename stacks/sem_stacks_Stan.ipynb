{
 "cells": [
  {
   "cell_type": "markdown",
   "metadata": {
    "id": "neYppnshHGIJ"
   },
   "source": [
    "1) При помощи стека (можно использовать любую реализацию стека, например, из лекции) проверить,\n",
    " что в строке, содержащей большой фрагмент кода на python,\n",
    " корректно открываются и закрываются скобки '(' и ')'.\n",
    " Заводить какие-либо счетчики и вообще вести подсчет скобок запрещено.\n",
    "\n",
    "Например, в следующей строке корректное количество скобок:\n",
    "\n",
    "'((dsasdas((das(d)das)d)asd)da)'\n",
    "\n",
    "А вот в следующей закрывающих больше, чем открывающих:\n",
    "\n",
    "'(f(gfhd((hgfdg((fghh)dads)das))ds)adddads())))'"
   ]
  },
  {
   "cell_type": "code",
   "execution_count": 30,
   "metadata": {
    "id": "IPr-gqqEHgpW"
   },
   "outputs": [
    {
     "name": "stdout",
     "output_type": "stream",
     "text": [
      "Скобки некорректно открываются/закрываются.\n"
     ]
    },
    {
     "ename": "IndexError",
     "evalue": "pop from an empty deque",
     "output_type": "error",
     "traceback": [
      "\u001b[1;31m---------------------------------------------------------------------------\u001b[0m",
      "\u001b[1;31mIndexError\u001b[0m                                Traceback (most recent call last)",
      "\u001b[1;32m~\\AppData\\Local\\Temp/ipykernel_5080/618613250.py\u001b[0m in \u001b[0;36m<module>\u001b[1;34m\u001b[0m\n\u001b[0;32m     17\u001b[0m \u001b[1;33m\u001b[0m\u001b[0m\n\u001b[0;32m     18\u001b[0m \u001b[0mstack2\u001b[0m \u001b[1;33m=\u001b[0m \u001b[0mStack\u001b[0m\u001b[1;33m(\u001b[0m\u001b[1;33m)\u001b[0m\u001b[1;33m\u001b[0m\u001b[1;33m\u001b[0m\u001b[0m\n\u001b[1;32m---> 19\u001b[1;33m \u001b[0mprint\u001b[0m\u001b[1;33m(\u001b[0m\u001b[0mstack2\u001b[0m\u001b[1;33m.\u001b[0m\u001b[0mpop\u001b[0m\u001b[1;33m(\u001b[0m\u001b[1;33m)\u001b[0m\u001b[1;33m)\u001b[0m\u001b[1;33m\u001b[0m\u001b[1;33m\u001b[0m\u001b[0m\n\u001b[0m",
      "\u001b[1;31mIndexError\u001b[0m: pop from an empty deque"
     ]
    }
   ],
   "source": [
    "from collections import deque\n",
    "import array as ar\n",
    "\n",
    "class Stack(deque):\n",
    "    def push(self, a):\n",
    "        self.append(a)\n",
    "        \n",
    "stack1 = Stack()\n",
    "ar1 = ar.array(\"u\", list(\"(f(gfh()d((hgfdg((fghh)dads)das))ds)adddads())()))\"))\n",
    "\n",
    "for i in ar1:\n",
    "    if i == \"(\" or i == \")\":\n",
    "        stack1.push(i)\n",
    "\n",
    "if stack1.count(\"(\") < stack1.count(\")\") or stack1.count(\"(\") > stack1.count(\")\"):\n",
    "    print(\"Скобки некорректно открываются/закрываются.\")\n",
    "    \n",
    "stack2 = Stack()\n",
    "print(stack2.pop())"
   ]
  },
  {
   "cell_type": "markdown",
   "metadata": {
    "id": "HMgoPKB2HGIU"
   },
   "source": [
    "2) С помощью списка (list) реализовать стек. При создании стека нужно передать максимальную длину стека. В случае попытки добавления элемента, приводящего к превышению емкости стека возвращать ошибку.\n",
    "\n",
    "Стек должен поддерживать следующие операции:\n",
    "\n",
    "S.push(e): добавление элемента e на вершину стека S.\n",
    "\n",
    "S.pop(): удаляет и возвращает верхний элемент стека S. Если стек пуст, то возникает ошибка.\n",
    "\n",
    "S.top(): возвращает верхний элемент стека S, не удаляя его. Если стек пуст, то возникает ошибка.\n",
    "\n",
    "S.is_empty( ): возвращает True если стек S не содержит ни одного элемента.\n",
    "\n",
    "len(S): возвращает текущеее количество элементов в стеке S."
   ]
  },
  {
   "cell_type": "code",
   "execution_count": 57,
   "metadata": {
    "id": "XG5n6FzKHvQ7"
   },
   "outputs": [],
   "source": [
    "class Stack_lst(list):\n",
    "    def __init__(self, max_len):\n",
    "        self.max_len = max_len\n",
    "        \n",
    "    def push(self, e):\n",
    "        if len(self) < self.max_len:\n",
    "            self.append(e)\n",
    "        else:\n",
    "            raise IndexError(\"Превышена максимальная длина стека.\")\n",
    "    \n",
    "    def top(self):\n",
    "        if len(self) != 0:\n",
    "            return self[-1]\n",
    "        else:\n",
    "            raise IndexError(\"Стек пуст.\")\n",
    "    \n",
    "    def is_empty(self):\n",
    "        if len(self) == 0:\n",
    "            return True\n",
    "        else:\n",
    "            return False\n",
    "\n",
    "stack1 = Stack_lst(3)"
   ]
  },
  {
   "cell_type": "markdown",
   "metadata": {
    "id": "FOj8LN7kHGIY"
   },
   "source": [
    "3) Реализовать класс однонаправленного связанного списка."
   ]
  },
  {
   "cell_type": "code",
   "execution_count": null,
   "metadata": {
    "id": "avfAX9jIHwOz"
   },
   "outputs": [],
   "source": []
  },
  {
   "cell_type": "markdown",
   "metadata": {
    "id": "Rj3H7JlVHGIY"
   },
   "source": [
    "3.1) Реализовать метод добавления элемента в начало списка."
   ]
  },
  {
   "cell_type": "code",
   "execution_count": null,
   "metadata": {
    "id": "jigkL8IzHwvT"
   },
   "outputs": [],
   "source": []
  },
  {
   "cell_type": "markdown",
   "metadata": {
    "id": "0h9ldTM6HGIc"
   },
   "source": [
    "4) На базе класса однонаправленного связанного списка реализовать двунаправленный связанный список."
   ]
  },
  {
   "cell_type": "code",
   "execution_count": null,
   "metadata": {
    "id": "0AYVx7IqHxYs"
   },
   "outputs": [],
   "source": []
  },
  {
   "cell_type": "markdown",
   "metadata": {
    "id": "rfGzP39hHGId"
   },
   "source": [
    "4.1) Реализовать метод добавления элемента в начало списка."
   ]
  },
  {
   "cell_type": "code",
   "execution_count": null,
   "metadata": {
    "id": "za5vH1FJHyBr"
   },
   "outputs": [],
   "source": []
  },
  {
   "cell_type": "markdown",
   "metadata": {
    "id": "pbOBZFgmHGIi"
   },
   "source": [
    "5) При помощи класса связанного списка реализовать очередь."
   ]
  },
  {
   "cell_type": "code",
   "execution_count": null,
   "metadata": {
    "id": "psRjW7r4Hyjz"
   },
   "outputs": [],
   "source": []
  }
 ],
 "metadata": {
  "anaconda-cloud": {},
  "colab": {
   "provenance": []
  },
  "kernelspec": {
   "display_name": "Python 3 (ipykernel)",
   "language": "python",
   "name": "python3"
  },
  "language_info": {
   "codemirror_mode": {
    "name": "ipython",
    "version": 3
   },
   "file_extension": ".py",
   "mimetype": "text/x-python",
   "name": "python",
   "nbconvert_exporter": "python",
   "pygments_lexer": "ipython3",
   "version": "3.9.7"
  }
 },
 "nbformat": 4,
 "nbformat_minor": 1
}
