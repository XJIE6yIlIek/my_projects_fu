{
 "cells": [
  {
   "cell_type": "markdown",
   "id": "95efdd6d-30b2-4fa1-a582-4c0b0ba8cb19",
   "metadata": {
    "id": "95efdd6d-30b2-4fa1-a582-4c0b0ba8cb19"
   },
   "source": [
    "# Домашняя работа    \n"
   ]
  },
  {
   "cell_type": "markdown",
   "id": "6a394014-3118-4281-a504-fc97b152bacd",
   "metadata": {
    "id": "6a394014-3118-4281-a504-fc97b152bacd"
   },
   "source": [
    "## **Задачи**"
   ]
  },
  {
   "cell_type": "markdown",
   "id": "twE-n8sz3CL9",
   "metadata": {
    "id": "twE-n8sz3CL9"
   },
   "source": []
  },
  {
   "cell_type": "markdown",
   "id": "YAZXxRHaUh5A",
   "metadata": {
    "id": "YAZXxRHaUh5A"
   },
   "source": [
    "12) При помощи механизма map/filter/reduce возвести число 5 в степени от 0 до 10.\n",
    "12.2) Написать реализацию 12.1) без доп. функций (в том числе lambda).\n",
    "12.1) Написать реализацию 12) без оператора ** (возведение в степень) и написания доп. функций."
   ]
  },
  {
   "cell_type": "code",
   "execution_count": 9,
   "id": "7kN-4X44NDGN",
   "metadata": {
    "id": "7kN-4X44NDGN"
   },
   "outputs": [
    {
     "name": "stdout",
     "output_type": "stream",
     "text": [
      "[1, 5, 25, 125, 625, 3125, 15625, 78125, 390625, 1953125, 9765625]\n",
      "[]\n",
      "[1, 5, 25, 125, 625, 3125, 15625, 78125, 390625, 1953125, 9765625]\n"
     ]
    }
   ],
   "source": [
    "lst_pow = list(range(0, 11))\n",
    "\n",
    "#Возведение 5 в степени от 0 до 10.\n",
    "res = lambda x: 5**x\n",
    "print(list(map(res, lst_pow)))\n",
    "\n",
    "#Без доп функций.\n",
    "print(list())\n",
    "\n",
    "#Без ** и написания доп функций.\n",
    "lst = [5] * 11\n",
    "print(list(map(pow, lst, lst_pow)))"
   ]
  },
  {
   "cell_type": "markdown",
   "id": "7JxTaUvmUh5B",
   "metadata": {
    "id": "7JxTaUvmUh5B"
   },
   "source": [
    "13) При помощи механизма map/filter/reduce превраить список целых чисел в строку, содержащую строковое представление этих чисел, разделенное пробелами.\n",
    "\n",
    "Пример: [1, 2, 3, 4] -> '1 2 3 4'"
   ]
  },
  {
   "cell_type": "code",
   "execution_count": 14,
   "id": "UgVzXOv4NEj9",
   "metadata": {
    "id": "UgVzXOv4NEj9"
   },
   "outputs": [
    {
     "name": "stdout",
     "output_type": "stream",
     "text": [
      "1 2 3 4\n"
     ]
    }
   ],
   "source": [
    "tr = lambda x: str(x)\n",
    "print(\" \".join(list(map(tr, [1, 2, 3, 4]))))"
   ]
  },
  {
   "cell_type": "markdown",
   "id": "cuWWw8YzUh5C",
   "metadata": {
    "id": "cuWWw8YzUh5C"
   },
   "source": [
    "14) При помощи механизма map/filter/reduce возвести в квадрат числа от 1 до 100, и рассчитать их сумму, не включая в сумму числа, кратные 9."
   ]
  },
  {
   "cell_type": "code",
   "execution_count": 17,
   "id": "CYy6d5j7NF2m",
   "metadata": {
    "id": "CYy6d5j7NF2m"
   },
   "outputs": [
    {
     "name": "stdout",
     "output_type": "stream",
     "text": [
      "225589\n"
     ]
    }
   ],
   "source": [
    "pow1 = lambda x: x**2\n",
    "lst = list(map(pow1, list(range(1, 101))))\n",
    "\n",
    "filter_num = lambda x: x % 9 != 0\n",
    "lst_filtered = list(filter(filter_num, lst))\n",
    "print(sum(lst_filtered))"
   ]
  },
  {
   "cell_type": "markdown",
   "id": "MBKZRBmhUh5C",
   "metadata": {
    "id": "MBKZRBmhUh5C"
   },
   "source": [
    "14.1) Написать реализацию 14) в одну строку."
   ]
  },
  {
   "cell_type": "code",
   "execution_count": 19,
   "id": "hMHfMP-_NHiG",
   "metadata": {
    "id": "hMHfMP-_NHiG"
   },
   "outputs": [
    {
     "name": "stdout",
     "output_type": "stream",
     "text": [
      "225589\n"
     ]
    }
   ],
   "source": [
    "print(sum(list(filter(lambda x: x % 9 != 0, list(map(lambda x: x**2, list(range(1, 101))))))))"
   ]
  },
  {
   "cell_type": "markdown",
   "id": "1iWU7nVxUh5C",
   "metadata": {
    "id": "1iWU7nVxUh5C"
   },
   "source": [
    "15) При помощи механизма map/filter/reduce из списка списков извлечь элементы, содержащиеся во вложенных списках по индексу 1.\n",
    "\n",
    "Пример:\n",
    "[[1, 2, 3], [2, 3, 4], [0, 1 , 1 , 1], [0, 0]] -> [2, 3, 1, 0]"
   ]
  },
  {
   "cell_type": "code",
   "execution_count": 21,
   "id": "ZviTHqjsNJCF",
   "metadata": {
    "id": "ZviTHqjsNJCF"
   },
   "outputs": [
    {
     "name": "stdout",
     "output_type": "stream",
     "text": [
      "[2, 3, 1, 0]\n"
     ]
    }
   ],
   "source": [
    "func = lambda x: x[1]\n",
    "print(list(map(func, [[1, 2, 3], [2, 3, 4], [0, 1 , 1 , 1], [0, 0]])))"
   ]
  },
  {
   "cell_type": "markdown",
   "id": "y4UwAcuvUh5C",
   "metadata": {
    "id": "y4UwAcuvUh5C"
   },
   "source": [
    "15.1) Написать реализацию 15) без доп. функций (в том числе lambda)."
   ]
  },
  {
   "cell_type": "code",
   "execution_count": null,
   "id": "X60qmgBlUh5D",
   "metadata": {
    "id": "X60qmgBlUh5D"
   },
   "outputs": [],
   "source": []
  },
  {
   "cell_type": "markdown",
   "id": "Iy8VkW4sUh5D",
   "metadata": {
    "id": "Iy8VkW4sUh5D"
   },
   "source": [
    "16) При помощи механизма map/filter/reduce из несколько одинаковых подряд идущих элементов оставить только один.\n",
    "\n",
    "\n",
    "[1, 2, 3, 4, 4, 4, 5, 6, 6, 7, 6, 1, 1] -> [1, 2, 3, 4, 5, 6, 7, 6, 1]"
   ]
  },
  {
   "cell_type": "code",
   "execution_count": 28,
   "id": "GphkID46NKT1",
   "metadata": {
    "id": "GphkID46NKT1"
   },
   "outputs": [
    {
     "name": "stdout",
     "output_type": "stream",
     "text": [
      "[1]\n"
     ]
    },
    {
     "data": {
      "text/plain": [
       "range(0, 13)"
      ]
     },
     "execution_count": 28,
     "metadata": {},
     "output_type": "execute_result"
    }
   ],
   "source": []
  },
  {
   "cell_type": "markdown",
   "id": "otauCm73Uh5D",
   "metadata": {
    "id": "otauCm73Uh5D"
   },
   "source": [
    "17) Написать декоратор flip, который переставляет аргументы декорируемой функции в обратном порядке (функция не имеет именованых аргументов)."
   ]
  },
  {
   "cell_type": "code",
   "execution_count": null,
   "id": "sWf8vQXuNL3t",
   "metadata": {
    "id": "sWf8vQXuNL3t"
   },
   "outputs": [],
   "source": []
  },
  {
   "cell_type": "code",
   "execution_count": null,
   "id": "3f923742",
   "metadata": {},
   "outputs": [],
   "source": []
  }
 ],
 "metadata": {
  "colab": {
   "provenance": []
  },
  "kernelspec": {
   "display_name": "Python 3 (ipykernel)",
   "language": "python",
   "name": "python3"
  },
  "language_info": {
   "codemirror_mode": {
    "name": "ipython",
    "version": 3
   },
   "file_extension": ".py",
   "mimetype": "text/x-python",
   "name": "python",
   "nbconvert_exporter": "python",
   "pygments_lexer": "ipython3",
   "version": "3.9.7"
  }
 },
 "nbformat": 4,
 "nbformat_minor": 5
}
